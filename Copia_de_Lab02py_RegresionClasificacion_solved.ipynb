{
  "cells": [
    {
      "cell_type": "markdown",
      "metadata": {
        "id": "view-in-github",
        "colab_type": "text"
      },
      "source": [
        "<a href=\"https://colab.research.google.com/github/hardyjavier/cjmarquezr/blob/main/Copia_de_Lab02py_RegresionClasificacion_solved.ipynb\" target=\"_parent\"><img src=\"https://colab.research.google.com/assets/colab-badge.svg\" alt=\"Open In Colab\"/></a>"
      ]
    },
    {
      "cell_type": "markdown",
      "metadata": {
        "id": "mZ3PacACSC30"
      },
      "source": [
        "Analisis de vinos - Regresión y Clasificación"
      ]
    },
    {
      "cell_type": "code",
      "execution_count": null,
      "metadata": {
        "id": "btztCHNOSC38"
      },
      "outputs": [],
      "source": [
        "import pickle\n",
        "import pandas as pd\n",
        "import numpy as np\n",
        "import seaborn as sns\n",
        "import pylab as pl\n",
        "import matplotlib.pyplot as plt\n",
        "import statsmodels.api as sm\n",
        "import statsmodels.formula.api as smf\n",
        "\n",
        "from sklearn import svm\n",
        "from sklearn import tree\n",
        "from sklearn.neighbors import KNeighborsClassifier\n",
        "from sklearn.tree import DecisionTreeClassifier\n",
        "from sklearn.linear_model import LinearRegression\n",
        "from sklearn.linear_model import LogisticRegression\n",
        "from sklearn.ensemble import RandomForestClassifier\n",
        "from sklearn.model_selection import train_test_split\n",
        "from sklearn.preprocessing import PolynomialFeatures\n",
        "from sklearn import preprocessing\n",
        "\n",
        "%matplotlib inline"
      ]
    },
    {
      "cell_type": "markdown",
      "metadata": {
        "id": "XzvvB15aSC39"
      },
      "source": [
        "## Cargar el set de datos\n",
        "Vamos a continuar usando el set de datos que limpiamos y transformamos en el [laboratorio pasado](./Lab01py_Preprocesamiento.ipynb) en donde se registran los atributos de varias botellas de vino junto con su calidad.  De esta forma usaremos el mismo dataset a lo largo de todo el flujo del curso como si se tratara de un proyecto real!"
      ]
    },
    {
      "cell_type": "code",
      "execution_count": null,
      "metadata": {
        "colab": {
          "base_uri": "https://localhost:8080/"
        },
        "id": "KyVhZoL7WXvf",
        "outputId": "65220b71-fb28-45c0-9f81-719548ca9129"
      },
      "outputs": [
        {
          "output_type": "stream",
          "name": "stdout",
          "text": [
            "Drive already mounted at /content/drive; to attempt to forcibly remount, call drive.mount(\"/content/drive\", force_remount=True).\n"
          ]
        }
      ],
      "source": [
        "from google.colab import drive\n",
        "drive.mount('/content/drive')"
      ]
    },
    {
      "cell_type": "code",
      "execution_count": null,
      "metadata": {
        "colab": {
          "base_uri": "https://localhost:8080/"
        },
        "id": "aihsN3buSC3-",
        "outputId": "3228c33e-976e-4e45-87f6-433e766738e2"
      },
      "outputs": [
        {
          "output_type": "execute_result",
          "data": {
            "text/plain": [
              "4461"
            ]
          },
          "metadata": {},
          "execution_count": 56
        }
      ],
      "source": [
        "wine_df = pd.read_csv('/content/drive/MyDrive/winequality-white_clean.csv')\n",
        "len(wine_df)"
      ]
    },
    {
      "cell_type": "code",
      "execution_count": null,
      "metadata": {
        "colab": {
          "base_uri": "https://localhost:8080/",
          "height": 271
        },
        "id": "GAn0BziFSC3_",
        "outputId": "67572d24-3da9-41d8-f66f-e1d364263384"
      },
      "outputs": [
        {
          "output_type": "execute_result",
          "data": {
            "text/plain": [
              "   fixed_acidity  volatile_acidity  citric_acid  residual_sugar  chlorides  \\\n",
              "0            7.0              0.27         0.36            20.7      0.045   \n",
              "1            6.3              0.30         0.34             1.6      0.049   \n",
              "2            8.1              0.28         0.40             6.9      0.050   \n",
              "3            7.2              0.23         0.32             8.5      0.058   \n",
              "4            7.2              0.23         0.32             8.5      0.058   \n",
              "\n",
              "   free_sulfur_dioxide  total_sulfur_dioxide  density    pH  sulphates  \\\n",
              "0                 45.0                 170.0   1.0010  3.00       0.45   \n",
              "1                 14.0                 132.0   0.9940  3.30       0.49   \n",
              "2                 30.0                  97.0   0.9951  3.26       0.44   \n",
              "3                 47.0                 186.0   0.9956  3.19       0.40   \n",
              "4                 47.0                 186.0   0.9956  3.19       0.40   \n",
              "\n",
              "   alcohol  score  \n",
              "0      8.8   6.15  \n",
              "1      9.5   6.67  \n",
              "2     10.1   6.48  \n",
              "3      9.9   6.74  \n",
              "4      9.9   6.45  "
            ],
            "text/html": [
              "\n",
              "  <div id=\"df-1550f6f1-db81-439a-9b8d-ab62b54beeed\">\n",
              "    <div class=\"colab-df-container\">\n",
              "      <div>\n",
              "<style scoped>\n",
              "    .dataframe tbody tr th:only-of-type {\n",
              "        vertical-align: middle;\n",
              "    }\n",
              "\n",
              "    .dataframe tbody tr th {\n",
              "        vertical-align: top;\n",
              "    }\n",
              "\n",
              "    .dataframe thead th {\n",
              "        text-align: right;\n",
              "    }\n",
              "</style>\n",
              "<table border=\"1\" class=\"dataframe\">\n",
              "  <thead>\n",
              "    <tr style=\"text-align: right;\">\n",
              "      <th></th>\n",
              "      <th>fixed_acidity</th>\n",
              "      <th>volatile_acidity</th>\n",
              "      <th>citric_acid</th>\n",
              "      <th>residual_sugar</th>\n",
              "      <th>chlorides</th>\n",
              "      <th>free_sulfur_dioxide</th>\n",
              "      <th>total_sulfur_dioxide</th>\n",
              "      <th>density</th>\n",
              "      <th>pH</th>\n",
              "      <th>sulphates</th>\n",
              "      <th>alcohol</th>\n",
              "      <th>score</th>\n",
              "    </tr>\n",
              "  </thead>\n",
              "  <tbody>\n",
              "    <tr>\n",
              "      <th>0</th>\n",
              "      <td>7.0</td>\n",
              "      <td>0.27</td>\n",
              "      <td>0.36</td>\n",
              "      <td>20.7</td>\n",
              "      <td>0.045</td>\n",
              "      <td>45.0</td>\n",
              "      <td>170.0</td>\n",
              "      <td>1.0010</td>\n",
              "      <td>3.00</td>\n",
              "      <td>0.45</td>\n",
              "      <td>8.8</td>\n",
              "      <td>6.15</td>\n",
              "    </tr>\n",
              "    <tr>\n",
              "      <th>1</th>\n",
              "      <td>6.3</td>\n",
              "      <td>0.30</td>\n",
              "      <td>0.34</td>\n",
              "      <td>1.6</td>\n",
              "      <td>0.049</td>\n",
              "      <td>14.0</td>\n",
              "      <td>132.0</td>\n",
              "      <td>0.9940</td>\n",
              "      <td>3.30</td>\n",
              "      <td>0.49</td>\n",
              "      <td>9.5</td>\n",
              "      <td>6.67</td>\n",
              "    </tr>\n",
              "    <tr>\n",
              "      <th>2</th>\n",
              "      <td>8.1</td>\n",
              "      <td>0.28</td>\n",
              "      <td>0.40</td>\n",
              "      <td>6.9</td>\n",
              "      <td>0.050</td>\n",
              "      <td>30.0</td>\n",
              "      <td>97.0</td>\n",
              "      <td>0.9951</td>\n",
              "      <td>3.26</td>\n",
              "      <td>0.44</td>\n",
              "      <td>10.1</td>\n",
              "      <td>6.48</td>\n",
              "    </tr>\n",
              "    <tr>\n",
              "      <th>3</th>\n",
              "      <td>7.2</td>\n",
              "      <td>0.23</td>\n",
              "      <td>0.32</td>\n",
              "      <td>8.5</td>\n",
              "      <td>0.058</td>\n",
              "      <td>47.0</td>\n",
              "      <td>186.0</td>\n",
              "      <td>0.9956</td>\n",
              "      <td>3.19</td>\n",
              "      <td>0.40</td>\n",
              "      <td>9.9</td>\n",
              "      <td>6.74</td>\n",
              "    </tr>\n",
              "    <tr>\n",
              "      <th>4</th>\n",
              "      <td>7.2</td>\n",
              "      <td>0.23</td>\n",
              "      <td>0.32</td>\n",
              "      <td>8.5</td>\n",
              "      <td>0.058</td>\n",
              "      <td>47.0</td>\n",
              "      <td>186.0</td>\n",
              "      <td>0.9956</td>\n",
              "      <td>3.19</td>\n",
              "      <td>0.40</td>\n",
              "      <td>9.9</td>\n",
              "      <td>6.45</td>\n",
              "    </tr>\n",
              "  </tbody>\n",
              "</table>\n",
              "</div>\n",
              "      <button class=\"colab-df-convert\" onclick=\"convertToInteractive('df-1550f6f1-db81-439a-9b8d-ab62b54beeed')\"\n",
              "              title=\"Convert this dataframe to an interactive table.\"\n",
              "              style=\"display:none;\">\n",
              "        \n",
              "  <svg xmlns=\"http://www.w3.org/2000/svg\" height=\"24px\"viewBox=\"0 0 24 24\"\n",
              "       width=\"24px\">\n",
              "    <path d=\"M0 0h24v24H0V0z\" fill=\"none\"/>\n",
              "    <path d=\"M18.56 5.44l.94 2.06.94-2.06 2.06-.94-2.06-.94-.94-2.06-.94 2.06-2.06.94zm-11 1L8.5 8.5l.94-2.06 2.06-.94-2.06-.94L8.5 2.5l-.94 2.06-2.06.94zm10 10l.94 2.06.94-2.06 2.06-.94-2.06-.94-.94-2.06-.94 2.06-2.06.94z\"/><path d=\"M17.41 7.96l-1.37-1.37c-.4-.4-.92-.59-1.43-.59-.52 0-1.04.2-1.43.59L10.3 9.45l-7.72 7.72c-.78.78-.78 2.05 0 2.83L4 21.41c.39.39.9.59 1.41.59.51 0 1.02-.2 1.41-.59l7.78-7.78 2.81-2.81c.8-.78.8-2.07 0-2.86zM5.41 20L4 18.59l7.72-7.72 1.47 1.35L5.41 20z\"/>\n",
              "  </svg>\n",
              "      </button>\n",
              "      \n",
              "  <style>\n",
              "    .colab-df-container {\n",
              "      display:flex;\n",
              "      flex-wrap:wrap;\n",
              "      gap: 12px;\n",
              "    }\n",
              "\n",
              "    .colab-df-convert {\n",
              "      background-color: #E8F0FE;\n",
              "      border: none;\n",
              "      border-radius: 50%;\n",
              "      cursor: pointer;\n",
              "      display: none;\n",
              "      fill: #1967D2;\n",
              "      height: 32px;\n",
              "      padding: 0 0 0 0;\n",
              "      width: 32px;\n",
              "    }\n",
              "\n",
              "    .colab-df-convert:hover {\n",
              "      background-color: #E2EBFA;\n",
              "      box-shadow: 0px 1px 2px rgba(60, 64, 67, 0.3), 0px 1px 3px 1px rgba(60, 64, 67, 0.15);\n",
              "      fill: #174EA6;\n",
              "    }\n",
              "\n",
              "    [theme=dark] .colab-df-convert {\n",
              "      background-color: #3B4455;\n",
              "      fill: #D2E3FC;\n",
              "    }\n",
              "\n",
              "    [theme=dark] .colab-df-convert:hover {\n",
              "      background-color: #434B5C;\n",
              "      box-shadow: 0px 1px 3px 1px rgba(0, 0, 0, 0.15);\n",
              "      filter: drop-shadow(0px 1px 2px rgba(0, 0, 0, 0.3));\n",
              "      fill: #FFFFFF;\n",
              "    }\n",
              "  </style>\n",
              "\n",
              "      <script>\n",
              "        const buttonEl =\n",
              "          document.querySelector('#df-1550f6f1-db81-439a-9b8d-ab62b54beeed button.colab-df-convert');\n",
              "        buttonEl.style.display =\n",
              "          google.colab.kernel.accessAllowed ? 'block' : 'none';\n",
              "\n",
              "        async function convertToInteractive(key) {\n",
              "          const element = document.querySelector('#df-1550f6f1-db81-439a-9b8d-ab62b54beeed');\n",
              "          const dataTable =\n",
              "            await google.colab.kernel.invokeFunction('convertToInteractive',\n",
              "                                                     [key], {});\n",
              "          if (!dataTable) return;\n",
              "\n",
              "          const docLinkHtml = 'Like what you see? Visit the ' +\n",
              "            '<a target=\"_blank\" href=https://colab.research.google.com/notebooks/data_table.ipynb>data table notebook</a>'\n",
              "            + ' to learn more about interactive tables.';\n",
              "          element.innerHTML = '';\n",
              "          dataTable['output_type'] = 'display_data';\n",
              "          await google.colab.output.renderOutput(dataTable, element);\n",
              "          const docLink = document.createElement('div');\n",
              "          docLink.innerHTML = docLinkHtml;\n",
              "          element.appendChild(docLink);\n",
              "        }\n",
              "      </script>\n",
              "    </div>\n",
              "  </div>\n",
              "  "
            ]
          },
          "metadata": {},
          "execution_count": 57
        }
      ],
      "source": [
        "wine_df.head()"
      ]
    },
    {
      "cell_type": "markdown",
      "metadata": {
        "id": "4dvQZAiUSC3_"
      },
      "source": [
        "## 2a. Regresión  \n",
        "Ya hemos visto los conceptos básicos de una regresión:\n",
        "- Aprendizaje **supervisado**\n",
        "- Predecir una variable **contínua**\n",
        "- Se busca encontrar los **pesos** de las variables para validar cada una de ellas cómo influye en nuestra variable final  \n",
        "\n",
        "Lo primero que debemos hacer es separar nuestra variable objetivo (*score*) de las variables predictivas (En este caso son todas las demás)"
      ]
    },
    {
      "cell_type": "code",
      "execution_count": null,
      "metadata": {
        "colab": {
          "base_uri": "https://localhost:8080/",
          "height": 271
        },
        "id": "vpGveuWASC4A",
        "outputId": "677a14dc-e5ee-4c77-aaf4-d555f4e0a0a0"
      },
      "outputs": [
        {
          "output_type": "execute_result",
          "data": {
            "text/plain": [
              "   fixed_acidity  volatile_acidity  citric_acid  residual_sugar  chlorides  \\\n",
              "0            7.0              0.27         0.36            20.7      0.045   \n",
              "1            6.3              0.30         0.34             1.6      0.049   \n",
              "2            8.1              0.28         0.40             6.9      0.050   \n",
              "3            7.2              0.23         0.32             8.5      0.058   \n",
              "4            7.2              0.23         0.32             8.5      0.058   \n",
              "\n",
              "   free_sulfur_dioxide  total_sulfur_dioxide  density    pH  sulphates  \\\n",
              "0                 45.0                 170.0   1.0010  3.00       0.45   \n",
              "1                 14.0                 132.0   0.9940  3.30       0.49   \n",
              "2                 30.0                  97.0   0.9951  3.26       0.44   \n",
              "3                 47.0                 186.0   0.9956  3.19       0.40   \n",
              "4                 47.0                 186.0   0.9956  3.19       0.40   \n",
              "\n",
              "   alcohol  \n",
              "0      8.8  \n",
              "1      9.5  \n",
              "2     10.1  \n",
              "3      9.9  \n",
              "4      9.9  "
            ],
            "text/html": [
              "\n",
              "  <div id=\"df-f3c26cf5-76ba-4a1c-a907-a8751bc36429\">\n",
              "    <div class=\"colab-df-container\">\n",
              "      <div>\n",
              "<style scoped>\n",
              "    .dataframe tbody tr th:only-of-type {\n",
              "        vertical-align: middle;\n",
              "    }\n",
              "\n",
              "    .dataframe tbody tr th {\n",
              "        vertical-align: top;\n",
              "    }\n",
              "\n",
              "    .dataframe thead th {\n",
              "        text-align: right;\n",
              "    }\n",
              "</style>\n",
              "<table border=\"1\" class=\"dataframe\">\n",
              "  <thead>\n",
              "    <tr style=\"text-align: right;\">\n",
              "      <th></th>\n",
              "      <th>fixed_acidity</th>\n",
              "      <th>volatile_acidity</th>\n",
              "      <th>citric_acid</th>\n",
              "      <th>residual_sugar</th>\n",
              "      <th>chlorides</th>\n",
              "      <th>free_sulfur_dioxide</th>\n",
              "      <th>total_sulfur_dioxide</th>\n",
              "      <th>density</th>\n",
              "      <th>pH</th>\n",
              "      <th>sulphates</th>\n",
              "      <th>alcohol</th>\n",
              "    </tr>\n",
              "  </thead>\n",
              "  <tbody>\n",
              "    <tr>\n",
              "      <th>0</th>\n",
              "      <td>7.0</td>\n",
              "      <td>0.27</td>\n",
              "      <td>0.36</td>\n",
              "      <td>20.7</td>\n",
              "      <td>0.045</td>\n",
              "      <td>45.0</td>\n",
              "      <td>170.0</td>\n",
              "      <td>1.0010</td>\n",
              "      <td>3.00</td>\n",
              "      <td>0.45</td>\n",
              "      <td>8.8</td>\n",
              "    </tr>\n",
              "    <tr>\n",
              "      <th>1</th>\n",
              "      <td>6.3</td>\n",
              "      <td>0.30</td>\n",
              "      <td>0.34</td>\n",
              "      <td>1.6</td>\n",
              "      <td>0.049</td>\n",
              "      <td>14.0</td>\n",
              "      <td>132.0</td>\n",
              "      <td>0.9940</td>\n",
              "      <td>3.30</td>\n",
              "      <td>0.49</td>\n",
              "      <td>9.5</td>\n",
              "    </tr>\n",
              "    <tr>\n",
              "      <th>2</th>\n",
              "      <td>8.1</td>\n",
              "      <td>0.28</td>\n",
              "      <td>0.40</td>\n",
              "      <td>6.9</td>\n",
              "      <td>0.050</td>\n",
              "      <td>30.0</td>\n",
              "      <td>97.0</td>\n",
              "      <td>0.9951</td>\n",
              "      <td>3.26</td>\n",
              "      <td>0.44</td>\n",
              "      <td>10.1</td>\n",
              "    </tr>\n",
              "    <tr>\n",
              "      <th>3</th>\n",
              "      <td>7.2</td>\n",
              "      <td>0.23</td>\n",
              "      <td>0.32</td>\n",
              "      <td>8.5</td>\n",
              "      <td>0.058</td>\n",
              "      <td>47.0</td>\n",
              "      <td>186.0</td>\n",
              "      <td>0.9956</td>\n",
              "      <td>3.19</td>\n",
              "      <td>0.40</td>\n",
              "      <td>9.9</td>\n",
              "    </tr>\n",
              "    <tr>\n",
              "      <th>4</th>\n",
              "      <td>7.2</td>\n",
              "      <td>0.23</td>\n",
              "      <td>0.32</td>\n",
              "      <td>8.5</td>\n",
              "      <td>0.058</td>\n",
              "      <td>47.0</td>\n",
              "      <td>186.0</td>\n",
              "      <td>0.9956</td>\n",
              "      <td>3.19</td>\n",
              "      <td>0.40</td>\n",
              "      <td>9.9</td>\n",
              "    </tr>\n",
              "  </tbody>\n",
              "</table>\n",
              "</div>\n",
              "      <button class=\"colab-df-convert\" onclick=\"convertToInteractive('df-f3c26cf5-76ba-4a1c-a907-a8751bc36429')\"\n",
              "              title=\"Convert this dataframe to an interactive table.\"\n",
              "              style=\"display:none;\">\n",
              "        \n",
              "  <svg xmlns=\"http://www.w3.org/2000/svg\" height=\"24px\"viewBox=\"0 0 24 24\"\n",
              "       width=\"24px\">\n",
              "    <path d=\"M0 0h24v24H0V0z\" fill=\"none\"/>\n",
              "    <path d=\"M18.56 5.44l.94 2.06.94-2.06 2.06-.94-2.06-.94-.94-2.06-.94 2.06-2.06.94zm-11 1L8.5 8.5l.94-2.06 2.06-.94-2.06-.94L8.5 2.5l-.94 2.06-2.06.94zm10 10l.94 2.06.94-2.06 2.06-.94-2.06-.94-.94-2.06-.94 2.06-2.06.94z\"/><path d=\"M17.41 7.96l-1.37-1.37c-.4-.4-.92-.59-1.43-.59-.52 0-1.04.2-1.43.59L10.3 9.45l-7.72 7.72c-.78.78-.78 2.05 0 2.83L4 21.41c.39.39.9.59 1.41.59.51 0 1.02-.2 1.41-.59l7.78-7.78 2.81-2.81c.8-.78.8-2.07 0-2.86zM5.41 20L4 18.59l7.72-7.72 1.47 1.35L5.41 20z\"/>\n",
              "  </svg>\n",
              "      </button>\n",
              "      \n",
              "  <style>\n",
              "    .colab-df-container {\n",
              "      display:flex;\n",
              "      flex-wrap:wrap;\n",
              "      gap: 12px;\n",
              "    }\n",
              "\n",
              "    .colab-df-convert {\n",
              "      background-color: #E8F0FE;\n",
              "      border: none;\n",
              "      border-radius: 50%;\n",
              "      cursor: pointer;\n",
              "      display: none;\n",
              "      fill: #1967D2;\n",
              "      height: 32px;\n",
              "      padding: 0 0 0 0;\n",
              "      width: 32px;\n",
              "    }\n",
              "\n",
              "    .colab-df-convert:hover {\n",
              "      background-color: #E2EBFA;\n",
              "      box-shadow: 0px 1px 2px rgba(60, 64, 67, 0.3), 0px 1px 3px 1px rgba(60, 64, 67, 0.15);\n",
              "      fill: #174EA6;\n",
              "    }\n",
              "\n",
              "    [theme=dark] .colab-df-convert {\n",
              "      background-color: #3B4455;\n",
              "      fill: #D2E3FC;\n",
              "    }\n",
              "\n",
              "    [theme=dark] .colab-df-convert:hover {\n",
              "      background-color: #434B5C;\n",
              "      box-shadow: 0px 1px 3px 1px rgba(0, 0, 0, 0.15);\n",
              "      filter: drop-shadow(0px 1px 2px rgba(0, 0, 0, 0.3));\n",
              "      fill: #FFFFFF;\n",
              "    }\n",
              "  </style>\n",
              "\n",
              "      <script>\n",
              "        const buttonEl =\n",
              "          document.querySelector('#df-f3c26cf5-76ba-4a1c-a907-a8751bc36429 button.colab-df-convert');\n",
              "        buttonEl.style.display =\n",
              "          google.colab.kernel.accessAllowed ? 'block' : 'none';\n",
              "\n",
              "        async function convertToInteractive(key) {\n",
              "          const element = document.querySelector('#df-f3c26cf5-76ba-4a1c-a907-a8751bc36429');\n",
              "          const dataTable =\n",
              "            await google.colab.kernel.invokeFunction('convertToInteractive',\n",
              "                                                     [key], {});\n",
              "          if (!dataTable) return;\n",
              "\n",
              "          const docLinkHtml = 'Like what you see? Visit the ' +\n",
              "            '<a target=\"_blank\" href=https://colab.research.google.com/notebooks/data_table.ipynb>data table notebook</a>'\n",
              "            + ' to learn more about interactive tables.';\n",
              "          element.innerHTML = '';\n",
              "          dataTable['output_type'] = 'display_data';\n",
              "          await google.colab.output.renderOutput(dataTable, element);\n",
              "          const docLink = document.createElement('div');\n",
              "          docLink.innerHTML = docLinkHtml;\n",
              "          element.appendChild(docLink);\n",
              "        }\n",
              "      </script>\n",
              "    </div>\n",
              "  </div>\n",
              "  "
            ]
          },
          "metadata": {},
          "execution_count": 58
        }
      ],
      "source": [
        "y = wine_df['score']\n",
        "x = wine_df.drop(['score'], axis=1)\n",
        "x.head()"
      ]
    },
    {
      "cell_type": "markdown",
      "metadata": {
        "id": "dMPRUpERS-bn"
      },
      "source": [
        "El siguiente paso, imprescindible en un proyecto de Machine Learning, es separar el dataset en dos, una porción para entrenar (70%) y una porción para probar (30%).  Estos porcentajes son sugeridos pero pueden variar.  Es importante que siempre el dataset de entrenamiento sea más grande que el de pruebas."
      ]
    },
    {
      "cell_type": "code",
      "execution_count": null,
      "metadata": {
        "colab": {
          "base_uri": "https://localhost:8080/"
        },
        "id": "LvTEiUUnSC4A",
        "outputId": "0ac7bbc5-b920-4d17-85ab-9ab36f5a36eb"
      },
      "outputs": [
        {
          "output_type": "stream",
          "name": "stdout",
          "text": [
            "Población:4461\n",
            "Muestra para Entrenamiento:3122\n",
            "Muestra para Pruebas:1339\n"
          ]
        }
      ],
      "source": [
        "print('Población:'+str(len(x)))\n",
        "x_train, x_test, y_train, y_test = train_test_split(x, y, test_size=0.3, random_state=42)\n",
        "print('Muestra para Entrenamiento:'+str(len(x_train)))\n",
        "print('Muestra para Pruebas:'+str(len(x_test)))"
      ]
    },
    {
      "cell_type": "markdown",
      "metadata": {
        "id": "qaI0gCw5SC4B"
      },
      "source": [
        "Ahora sí, vamos a ver qué tipos de modelos podemos entrenar con el dataset ya cargado y separado:\n",
        "\n",
        "### OLS (Ordinary Least Squares)\n",
        "\n",
        "Llamado así porque busca los coeficientes de la ecuación que minimizen la suma de las distancias verticales entre los datos y el modelo.  Para aplicar este modelo se debe validar que no haya multicolinealidad entre las variables predictivas, pues no la detecta fácilmente.  \n",
        "![OLS](https://miro.medium.com/max/3268/1*AwC1WRm7jtldUcNMJTWmiA.png)\n",
        "\n",
        "- **Precisión:** Alta, para variables no correlacionadas (Condiciones para OLS [aquí](https://statisticsbyjim.com/regression/ols-linear-regression-assumptions))\n",
        "- **Velocidad:** Rápido\n",
        "- **Explicativo:** Mucho (Peso/Importancia de cada variable)\n",
        "- **Sensible a cambios:** Poco, OLS crea una estimación generalizada a todos los puntos, un solo valor atípico modificará los pesos de las variables pero no drasticamente, pues seguirá convergiendo a los demás puntos\n",
        "- **Deteminístico**: Sí"
      ]
    },
    {
      "cell_type": "code",
      "execution_count": null,
      "metadata": {
        "colab": {
          "base_uri": "https://localhost:8080/"
        },
        "id": "VVJ7agpWSC4B",
        "outputId": "c74a3db0-c61f-485f-c9e6-d89d2f4d68c9"
      },
      "outputs": [
        {
          "output_type": "execute_result",
          "data": {
            "text/plain": [
              "Index(['fixed_acidity', 'volatile_acidity', 'citric_acid', 'residual_sugar',\n",
              "       'chlorides', 'free_sulfur_dioxide', 'total_sulfur_dioxide', 'density',\n",
              "       'pH', 'sulphates', 'alcohol'],\n",
              "      dtype='object')"
            ]
          },
          "metadata": {},
          "execution_count": 60
        }
      ],
      "source": [
        "x.columns"
      ]
    },
    {
      "cell_type": "markdown",
      "metadata": {
        "id": "o3isbFjfSC4D"
      },
      "source": [
        "En el parámetro para *smf.ols()* se le indica al modelo que necesitamos una función de la forma:\n",
        "> Y ~ X1 + X2 + X3 + X4 + ... + Xn  \n",
        "\n",
        "En donde Y es nuestra variale objetivo y cada Xi son las variables predictivas para las que se debe buscar un peso en la ecuación."
      ]
    },
    {
      "cell_type": "code",
      "execution_count": null,
      "metadata": {
        "colab": {
          "base_uri": "https://localhost:8080/",
          "height": 700
        },
        "id": "mMlDQUpaSC4D",
        "outputId": "13f248e8-72ee-4f59-aa09-f4d5935fad09"
      },
      "outputs": [
        {
          "output_type": "execute_result",
          "data": {
            "text/plain": [
              "<class 'statsmodels.iolib.summary.Summary'>\n",
              "\"\"\"\n",
              "                            OLS Regression Results                            \n",
              "==============================================================================\n",
              "Dep. Variable:                  score   R-squared:                       0.273\n",
              "Model:                            OLS   Adj. R-squared:                  0.272\n",
              "Method:                 Least Squares   F-statistic:                     152.1\n",
              "Date:                Sat, 18 Jun 2022   Prob (F-statistic):          2.30e-298\n",
              "Time:                        16:04:46   Log-Likelihood:                -5301.4\n",
              "No. Observations:                4461   AIC:                         1.063e+04\n",
              "Df Residuals:                    4449   BIC:                         1.070e+04\n",
              "Df Model:                          11                                         \n",
              "Covariance Type:            nonrobust                                         \n",
              "========================================================================================\n",
              "                           coef    std err          t      P>|t|      [0.025      0.975]\n",
              "----------------------------------------------------------------------------------------\n",
              "Intercept              153.5215     20.503      7.488      0.000     113.324     193.718\n",
              "fixed_acidity            0.1088      0.024      4.611      0.000       0.063       0.155\n",
              "volatile_acidity        -1.6731      0.127    -13.209      0.000      -1.921      -1.425\n",
              "citric_acid              0.1496      0.109      1.371      0.170      -0.064       0.363\n",
              "residual_sugar           0.0813      0.008      9.843      0.000       0.065       0.097\n",
              "chlorides               -0.5376      0.637     -0.844      0.399      -1.786       0.711\n",
              "free_sulfur_dioxide      0.0043      0.001      4.517      0.000       0.002       0.006\n",
              "total_sulfur_dioxide    -0.0006      0.000     -1.494      0.135      -0.001       0.000\n",
              "density               -154.2728     20.814     -7.412      0.000    -195.078    -113.467\n",
              "pH                       0.8969      0.125      7.200      0.000       0.653       1.141\n",
              "sulphates                0.6693      0.111      6.008      0.000       0.451       0.888\n",
              "alcohol                  0.2012      0.026      7.620      0.000       0.149       0.253\n",
              "==============================================================================\n",
              "Omnibus:                       62.094   Durbin-Watson:                   1.708\n",
              "Prob(Omnibus):                  0.000   Jarque-Bera (JB):              114.404\n",
              "Skew:                          -0.005   Prob(JB):                     1.44e-25\n",
              "Kurtosis:                       3.784   Cond. No.                     3.70e+05\n",
              "==============================================================================\n",
              "\n",
              "Warnings:\n",
              "[1] Standard Errors assume that the covariance matrix of the errors is correctly specified.\n",
              "[2] The condition number is large, 3.7e+05. This might indicate that there are\n",
              "strong multicollinearity or other numerical problems.\n",
              "\"\"\""
            ],
            "text/html": [
              "<table class=\"simpletable\">\n",
              "<caption>OLS Regression Results</caption>\n",
              "<tr>\n",
              "  <th>Dep. Variable:</th>          <td>score</td>      <th>  R-squared:         </th> <td>   0.273</td> \n",
              "</tr>\n",
              "<tr>\n",
              "  <th>Model:</th>                   <td>OLS</td>       <th>  Adj. R-squared:    </th> <td>   0.272</td> \n",
              "</tr>\n",
              "<tr>\n",
              "  <th>Method:</th>             <td>Least Squares</td>  <th>  F-statistic:       </th> <td>   152.1</td> \n",
              "</tr>\n",
              "<tr>\n",
              "  <th>Date:</th>             <td>Sat, 18 Jun 2022</td> <th>  Prob (F-statistic):</th> <td>2.30e-298</td>\n",
              "</tr>\n",
              "<tr>\n",
              "  <th>Time:</th>                 <td>16:04:46</td>     <th>  Log-Likelihood:    </th> <td> -5301.4</td> \n",
              "</tr>\n",
              "<tr>\n",
              "  <th>No. Observations:</th>      <td>  4461</td>      <th>  AIC:               </th> <td>1.063e+04</td>\n",
              "</tr>\n",
              "<tr>\n",
              "  <th>Df Residuals:</th>          <td>  4449</td>      <th>  BIC:               </th> <td>1.070e+04</td>\n",
              "</tr>\n",
              "<tr>\n",
              "  <th>Df Model:</th>              <td>    11</td>      <th>                     </th>     <td> </td>    \n",
              "</tr>\n",
              "<tr>\n",
              "  <th>Covariance Type:</th>      <td>nonrobust</td>    <th>                     </th>     <td> </td>    \n",
              "</tr>\n",
              "</table>\n",
              "<table class=\"simpletable\">\n",
              "<tr>\n",
              "            <td></td>              <th>coef</th>     <th>std err</th>      <th>t</th>      <th>P>|t|</th>  <th>[0.025</th>    <th>0.975]</th>  \n",
              "</tr>\n",
              "<tr>\n",
              "  <th>Intercept</th>            <td>  153.5215</td> <td>   20.503</td> <td>    7.488</td> <td> 0.000</td> <td>  113.324</td> <td>  193.718</td>\n",
              "</tr>\n",
              "<tr>\n",
              "  <th>fixed_acidity</th>        <td>    0.1088</td> <td>    0.024</td> <td>    4.611</td> <td> 0.000</td> <td>    0.063</td> <td>    0.155</td>\n",
              "</tr>\n",
              "<tr>\n",
              "  <th>volatile_acidity</th>     <td>   -1.6731</td> <td>    0.127</td> <td>  -13.209</td> <td> 0.000</td> <td>   -1.921</td> <td>   -1.425</td>\n",
              "</tr>\n",
              "<tr>\n",
              "  <th>citric_acid</th>          <td>    0.1496</td> <td>    0.109</td> <td>    1.371</td> <td> 0.170</td> <td>   -0.064</td> <td>    0.363</td>\n",
              "</tr>\n",
              "<tr>\n",
              "  <th>residual_sugar</th>       <td>    0.0813</td> <td>    0.008</td> <td>    9.843</td> <td> 0.000</td> <td>    0.065</td> <td>    0.097</td>\n",
              "</tr>\n",
              "<tr>\n",
              "  <th>chlorides</th>            <td>   -0.5376</td> <td>    0.637</td> <td>   -0.844</td> <td> 0.399</td> <td>   -1.786</td> <td>    0.711</td>\n",
              "</tr>\n",
              "<tr>\n",
              "  <th>free_sulfur_dioxide</th>  <td>    0.0043</td> <td>    0.001</td> <td>    4.517</td> <td> 0.000</td> <td>    0.002</td> <td>    0.006</td>\n",
              "</tr>\n",
              "<tr>\n",
              "  <th>total_sulfur_dioxide</th> <td>   -0.0006</td> <td>    0.000</td> <td>   -1.494</td> <td> 0.135</td> <td>   -0.001</td> <td>    0.000</td>\n",
              "</tr>\n",
              "<tr>\n",
              "  <th>density</th>              <td> -154.2728</td> <td>   20.814</td> <td>   -7.412</td> <td> 0.000</td> <td> -195.078</td> <td> -113.467</td>\n",
              "</tr>\n",
              "<tr>\n",
              "  <th>pH</th>                   <td>    0.8969</td> <td>    0.125</td> <td>    7.200</td> <td> 0.000</td> <td>    0.653</td> <td>    1.141</td>\n",
              "</tr>\n",
              "<tr>\n",
              "  <th>sulphates</th>            <td>    0.6693</td> <td>    0.111</td> <td>    6.008</td> <td> 0.000</td> <td>    0.451</td> <td>    0.888</td>\n",
              "</tr>\n",
              "<tr>\n",
              "  <th>alcohol</th>              <td>    0.2012</td> <td>    0.026</td> <td>    7.620</td> <td> 0.000</td> <td>    0.149</td> <td>    0.253</td>\n",
              "</tr>\n",
              "</table>\n",
              "<table class=\"simpletable\">\n",
              "<tr>\n",
              "  <th>Omnibus:</th>       <td>62.094</td> <th>  Durbin-Watson:     </th> <td>   1.708</td>\n",
              "</tr>\n",
              "<tr>\n",
              "  <th>Prob(Omnibus):</th> <td> 0.000</td> <th>  Jarque-Bera (JB):  </th> <td> 114.404</td>\n",
              "</tr>\n",
              "<tr>\n",
              "  <th>Skew:</th>          <td>-0.005</td> <th>  Prob(JB):          </th> <td>1.44e-25</td>\n",
              "</tr>\n",
              "<tr>\n",
              "  <th>Kurtosis:</th>      <td> 3.784</td> <th>  Cond. No.          </th> <td>3.70e+05</td>\n",
              "</tr>\n",
              "</table><br/><br/>Warnings:<br/>[1] Standard Errors assume that the covariance matrix of the errors is correctly specified.<br/>[2] The condition number is large, 3.7e+05. This might indicate that there are<br/>strong multicollinearity or other numerical problems."
            ]
          },
          "metadata": {},
          "execution_count": 61
        }
      ],
      "source": [
        "model_ols = smf.ols('score ~ fixed_acidity + volatile_acidity + citric_acid + residual_sugar +\\\n",
        "              chlorides + free_sulfur_dioxide + total_sulfur_dioxide + density + pH+\\\n",
        "              sulphates + alcohol', data=wine_df)\n",
        "fit_ols = model_ols.fit()\n",
        "fit_ols.summary()"
      ]
    },
    {
      "cell_type": "markdown",
      "metadata": {
        "id": "JeCHu0hCSC4D"
      },
      "source": [
        "La funcion *fit.summary()* nos entrega un montón de información, vamos a analizar la que más nos interesa:  \n",
        "\n",
        "- Modelo utilizado (OLS), cantidad de registros y de variables usadas (incluyendo intercepto)\n",
        "- Df Residuals (Flexibilidad del modelo: #Observacionnes - #Variables) y Df modelo (#Variables -Intercepto) *(Un dato que no da el summary de R)*\n",
        "- R2, en la primera tabla, es el cuadrado del coeficiente de correlación de todas las variables y representa el porcentaje estimado de varianza que puede ser explicado por el modelo.  \n",
        "- Adj. R2 es un R2 que penaliza coeficientes muy grandes o muy bajos y variables redundantes.  \n",
        "- La tabla del centro nos muestra los coeficientes encontrados por el modelo para cada variable, junto con el error estándar de cada uno.  Esto significa que nuestro modelo tiene la forma:\n",
        "\n",
        "$$\n",
        "y = 153.5215 + 0.1088(fixed acidity) - 1.6731(volatile acidity) + ... + 0.2012(alcohol)\n",
        "$$\n",
        "\n",
        "- Los valores t y valores P (*P>t*), para cada variable, indican si esta afecta o no la variable objetivo.  Son valores estadísticos, por lo general se busca que P < 0.05\n",
        "- Intervalo de confianza de cada variable [0.025 - 0.975]\n",
        "\n",
        "Por ahora, vamos a trabajar con estos valores para mejorar nuestro modelo.  Si quieres saber en detalle el significado y el impacto de modificar cada uno de estos resultados, puedes leer más [aquí](https://www.datarobot.com/blog/ordinary-least-squares-in-python/)"
      ]
    },
    {
      "cell_type": "markdown",
      "metadata": {
        "id": "yZbhKd1xSC4E"
      },
      "source": [
        "**Taller**  \n",
        "Juegue un poco con las variables en la función *smf.ols()* para ver si logra aumentar el R2 del modelo.  Por ejemplo:\n",
        "- Revise las variables que, según el  [laboratorio pasado](./Lab01py_Preprocesamiento.ipynb) están correlacionadas entre sí y aquellas que están correlacionadas con la variabe objetivo\n",
        "- Revise las variables que, según el modelo afectan la variable objetivo (*P valores*)  \n",
        "\n",
        "Una vez encuentre un modelo que considere adecuado, vamos a a guardarlo para futuros laboratorios:"
      ]
    },
    {
      "cell_type": "code",
      "execution_count": null,
      "metadata": {
        "id": "PMIjw4jOSC4E"
      },
      "outputs": [],
      "source": [
        "fit_ols.save('/content/drive/MyDrive/CIENCIA_DATOS/modelos/model_ols.pkl')"
      ]
    },
    {
      "cell_type": "code",
      "execution_count": null,
      "metadata": {
        "colab": {
          "base_uri": "https://localhost:8080/",
          "height": 657
        },
        "id": "p3r9OYvaIquN",
        "outputId": "cb59c64c-dc43-441f-c3e5-520cbde56c25"
      },
      "outputs": [
        {
          "output_type": "execute_result",
          "data": {
            "text/plain": [
              "<class 'statsmodels.iolib.summary.Summary'>\n",
              "\"\"\"\n",
              "                            OLS Regression Results                            \n",
              "==============================================================================\n",
              "Dep. Variable:                  score   R-squared:                       0.259\n",
              "Model:                            OLS   Adj. R-squared:                  0.257\n",
              "Method:                 Least Squares   F-statistic:                     172.8\n",
              "Date:                Sat, 18 Jun 2022   Prob (F-statistic):          1.07e-281\n",
              "Time:                        16:04:46   Log-Likelihood:                -5345.3\n",
              "No. Observations:                4461   AIC:                         1.071e+04\n",
              "Df Residuals:                    4451   BIC:                         1.077e+04\n",
              "Df Model:                           9                                         \n",
              "Covariance Type:            nonrobust                                         \n",
              "========================================================================================\n",
              "                           coef    std err          t      P>|t|      [0.025      0.975]\n",
              "----------------------------------------------------------------------------------------\n",
              "Intercept                1.7825      0.411      4.334      0.000       0.976       2.589\n",
              "fixed_acidity           -0.0290      0.017     -1.723      0.085      -0.062       0.004\n",
              "volatile_acidity        -1.9481      0.124    -15.737      0.000      -2.191      -1.705\n",
              "citric_acid              0.1008      0.110      0.917      0.359      -0.115       0.316\n",
              "residual_sugar           0.0256      0.003      9.064      0.000       0.020       0.031\n",
              "chlorides               -1.2917      0.635     -2.036      0.042      -2.536      -0.048\n",
              "total_sulfur_dioxide     0.0002      0.000      0.507      0.612      -0.000       0.001\n",
              "pH                       0.2976      0.100      2.984      0.003       0.102       0.493\n",
              "sulphates                0.4386      0.108      4.046      0.000       0.226       0.651\n",
              "alcohol                  0.3800      0.012     30.476      0.000       0.356       0.404\n",
              "==============================================================================\n",
              "Omnibus:                       54.253   Durbin-Watson:                   1.711\n",
              "Prob(Omnibus):                  0.000   Jarque-Bera (JB):               95.201\n",
              "Skew:                          -0.016   Prob(JB):                     2.13e-21\n",
              "Kurtosis:                       3.715   Cond. No.                     7.86e+03\n",
              "==============================================================================\n",
              "\n",
              "Warnings:\n",
              "[1] Standard Errors assume that the covariance matrix of the errors is correctly specified.\n",
              "[2] The condition number is large, 7.86e+03. This might indicate that there are\n",
              "strong multicollinearity or other numerical problems.\n",
              "\"\"\""
            ],
            "text/html": [
              "<table class=\"simpletable\">\n",
              "<caption>OLS Regression Results</caption>\n",
              "<tr>\n",
              "  <th>Dep. Variable:</th>          <td>score</td>      <th>  R-squared:         </th> <td>   0.259</td> \n",
              "</tr>\n",
              "<tr>\n",
              "  <th>Model:</th>                   <td>OLS</td>       <th>  Adj. R-squared:    </th> <td>   0.257</td> \n",
              "</tr>\n",
              "<tr>\n",
              "  <th>Method:</th>             <td>Least Squares</td>  <th>  F-statistic:       </th> <td>   172.8</td> \n",
              "</tr>\n",
              "<tr>\n",
              "  <th>Date:</th>             <td>Sat, 18 Jun 2022</td> <th>  Prob (F-statistic):</th> <td>1.07e-281</td>\n",
              "</tr>\n",
              "<tr>\n",
              "  <th>Time:</th>                 <td>16:04:46</td>     <th>  Log-Likelihood:    </th> <td> -5345.3</td> \n",
              "</tr>\n",
              "<tr>\n",
              "  <th>No. Observations:</th>      <td>  4461</td>      <th>  AIC:               </th> <td>1.071e+04</td>\n",
              "</tr>\n",
              "<tr>\n",
              "  <th>Df Residuals:</th>          <td>  4451</td>      <th>  BIC:               </th> <td>1.077e+04</td>\n",
              "</tr>\n",
              "<tr>\n",
              "  <th>Df Model:</th>              <td>     9</td>      <th>                     </th>     <td> </td>    \n",
              "</tr>\n",
              "<tr>\n",
              "  <th>Covariance Type:</th>      <td>nonrobust</td>    <th>                     </th>     <td> </td>    \n",
              "</tr>\n",
              "</table>\n",
              "<table class=\"simpletable\">\n",
              "<tr>\n",
              "            <td></td>              <th>coef</th>     <th>std err</th>      <th>t</th>      <th>P>|t|</th>  <th>[0.025</th>    <th>0.975]</th>  \n",
              "</tr>\n",
              "<tr>\n",
              "  <th>Intercept</th>            <td>    1.7825</td> <td>    0.411</td> <td>    4.334</td> <td> 0.000</td> <td>    0.976</td> <td>    2.589</td>\n",
              "</tr>\n",
              "<tr>\n",
              "  <th>fixed_acidity</th>        <td>   -0.0290</td> <td>    0.017</td> <td>   -1.723</td> <td> 0.085</td> <td>   -0.062</td> <td>    0.004</td>\n",
              "</tr>\n",
              "<tr>\n",
              "  <th>volatile_acidity</th>     <td>   -1.9481</td> <td>    0.124</td> <td>  -15.737</td> <td> 0.000</td> <td>   -2.191</td> <td>   -1.705</td>\n",
              "</tr>\n",
              "<tr>\n",
              "  <th>citric_acid</th>          <td>    0.1008</td> <td>    0.110</td> <td>    0.917</td> <td> 0.359</td> <td>   -0.115</td> <td>    0.316</td>\n",
              "</tr>\n",
              "<tr>\n",
              "  <th>residual_sugar</th>       <td>    0.0256</td> <td>    0.003</td> <td>    9.064</td> <td> 0.000</td> <td>    0.020</td> <td>    0.031</td>\n",
              "</tr>\n",
              "<tr>\n",
              "  <th>chlorides</th>            <td>   -1.2917</td> <td>    0.635</td> <td>   -2.036</td> <td> 0.042</td> <td>   -2.536</td> <td>   -0.048</td>\n",
              "</tr>\n",
              "<tr>\n",
              "  <th>total_sulfur_dioxide</th> <td>    0.0002</td> <td>    0.000</td> <td>    0.507</td> <td> 0.612</td> <td>   -0.000</td> <td>    0.001</td>\n",
              "</tr>\n",
              "<tr>\n",
              "  <th>pH</th>                   <td>    0.2976</td> <td>    0.100</td> <td>    2.984</td> <td> 0.003</td> <td>    0.102</td> <td>    0.493</td>\n",
              "</tr>\n",
              "<tr>\n",
              "  <th>sulphates</th>            <td>    0.4386</td> <td>    0.108</td> <td>    4.046</td> <td> 0.000</td> <td>    0.226</td> <td>    0.651</td>\n",
              "</tr>\n",
              "<tr>\n",
              "  <th>alcohol</th>              <td>    0.3800</td> <td>    0.012</td> <td>   30.476</td> <td> 0.000</td> <td>    0.356</td> <td>    0.404</td>\n",
              "</tr>\n",
              "</table>\n",
              "<table class=\"simpletable\">\n",
              "<tr>\n",
              "  <th>Omnibus:</th>       <td>54.253</td> <th>  Durbin-Watson:     </th> <td>   1.711</td>\n",
              "</tr>\n",
              "<tr>\n",
              "  <th>Prob(Omnibus):</th> <td> 0.000</td> <th>  Jarque-Bera (JB):  </th> <td>  95.201</td>\n",
              "</tr>\n",
              "<tr>\n",
              "  <th>Skew:</th>          <td>-0.016</td> <th>  Prob(JB):          </th> <td>2.13e-21</td>\n",
              "</tr>\n",
              "<tr>\n",
              "  <th>Kurtosis:</th>      <td> 3.715</td> <th>  Cond. No.          </th> <td>7.86e+03</td>\n",
              "</tr>\n",
              "</table><br/><br/>Warnings:<br/>[1] Standard Errors assume that the covariance matrix of the errors is correctly specified.<br/>[2] The condition number is large, 7.86e+03. This might indicate that there are<br/>strong multicollinearity or other numerical problems."
            ]
          },
          "metadata": {},
          "execution_count": 63
        }
      ],
      "source": [
        "model_ols = smf.ols('score ~ fixed_acidity + volatile_acidity + citric_acid + residual_sugar +\\\n",
        "              chlorides + total_sulfur_dioxide + pH+\\\n",
        "              sulphates + alcohol', data=wine_df)\n",
        "fit_ols = model_ols.fit()\n",
        "fit_ols.summary()"
      ]
    },
    {
      "cell_type": "code",
      "execution_count": null,
      "metadata": {
        "id": "1VRZzpRtKgT3"
      },
      "outputs": [],
      "source": [
        "fit_ols.save('/content/drive/MyDrive/CIENCIA_DATOS/modelos/model_ols_1.pkl')"
      ]
    },
    {
      "cell_type": "markdown",
      "metadata": {
        "id": "RwfFPUS8LOm_"
      },
      "source": []
    },
    {
      "cell_type": "markdown",
      "metadata": {
        "id": "8Fpnq19bSC4F"
      },
      "source": [
        "### Modelos Polinomiales  \n",
        "Modelos como el anterior, en los que se define una *fórmula* para que el modelo encuentre los coeficientes, son muy comunes en las funciones de R.  \n",
        "[scikit-learn](https://scikit-learn.org/dev/index.html), es la librería preferida de los que trabajamos con Machine Learning en **Python**.  No solo para predicción de variables contínuas sino para todo tipo de modelos.  \n",
        ">Por ejemplo, el ejercicio anterior puede realizarse también con esta librería usando la clase *LinearRegression()*  \n",
        "\n",
        "Para ello, es necesario dividir el dataset en entrenamiento y prueba y **diferenciar las variables predictivas (x) de la variable objetivo (y).**"
      ]
    },
    {
      "cell_type": "code",
      "execution_count": null,
      "metadata": {
        "id": "m1MAqT32SC4F"
      },
      "outputs": [],
      "source": [
        "x_train, x_test, y_train, y_test = train_test_split(x, y, test_size=0.3, random_state=42)\n",
        "columnas = ['residual_sugar', 'alcohol', 'citric_acid']\n",
        "\n",
        "x_train = x_train[columnas]\n",
        "x_test = x_test[columnas]"
      ]
    },
    {
      "cell_type": "code",
      "execution_count": null,
      "metadata": {
        "colab": {
          "base_uri": "https://localhost:8080/"
        },
        "id": "R7GxpIrbSC4F",
        "outputId": "d079e58c-3da5-4954-f587-29dd167a0f07"
      },
      "outputs": [
        {
          "output_type": "stream",
          "name": "stderr",
          "text": [
            "/usr/local/lib/python3.7/dist-packages/sklearn/utils/deprecation.py:87: FutureWarning: Function get_feature_names is deprecated; get_feature_names is deprecated in 1.0 and will be removed in 1.2. Please use get_feature_names_out instead.\n",
            "  warnings.warn(msg, category=FutureWarning)\n"
          ]
        },
        {
          "output_type": "execute_result",
          "data": {
            "text/plain": [
              "0.23437825556359826"
            ]
          },
          "metadata": {},
          "execution_count": 66
        }
      ],
      "source": [
        "model_poly = PolynomialFeatures(degree=2)\n",
        "x_train_poly = model_poly.fit_transform(x_train)\n",
        "x_test_poly = model_poly.fit_transform(x_test)\n",
        "\n",
        "model_linpoly = LinearRegression()\n",
        "model_linpoly.fit(x_train_poly, y_train)\n",
        "model_linpoly.feature_names_ = model_poly.get_feature_names()\n",
        "\n",
        "model_linpoly.score(x_test_poly, y_test)"
      ]
    },
    {
      "cell_type": "markdown",
      "metadata": {
        "id": "OJvS5yb3SC4G"
      },
      "source": [
        "En celdas anteriores hemos dividido el conjunto de datos en dos subconjuntos: Entrenamiento y Prueba.  \n",
        "Ahora, hemos tomado solo tres de ellas (*residual_sugar, alcohol, citric_acid*), para el ejemplo y creado y entrenado (*fit*) un modelo polinomial usando únicamente el set de entrenamiento, y hemos calculado el $R2$ (*score*) usando el set de pruebas: **23%**, el modelo aún puede mejorar, esto lo haremos más adelante.  \n",
        "Pero cuál es este modelo/ecuación qué hemos creado, asi como lo vimos en la sección pasada?"
      ]
    },
    {
      "cell_type": "code",
      "execution_count": null,
      "metadata": {
        "colab": {
          "base_uri": "https://localhost:8080/"
        },
        "id": "bww-vDGSSC4G",
        "outputId": "ff0278f7-f7fc-4c9b-dadb-be5973e4c703"
      },
      "outputs": [
        {
          "output_type": "stream",
          "name": "stdout",
          "text": [
            "[ 0.00000000e+00  1.06650064e-01  6.45477565e-01  2.47922588e+00\n",
            " -9.56781899e-04 -5.60730321e-03 -3.78017361e-02 -1.06736019e-02\n",
            " -5.00653324e-02 -1.75114094e+00]\n",
            "Cantidad de coeficientes: 10\n"
          ]
        }
      ],
      "source": [
        "print(model_linpoly.coef_)\n",
        "print('Cantidad de coeficientes: ' + str(len(model_linpoly.coef_)))"
      ]
    },
    {
      "cell_type": "markdown",
      "metadata": {
        "id": "6dDh1zSKSC4G"
      },
      "source": [
        "Parecen ser muchos? Porqué? Cómo saber a qué variable corresponde cada uno?"
      ]
    },
    {
      "cell_type": "code",
      "execution_count": null,
      "metadata": {
        "colab": {
          "base_uri": "https://localhost:8080/",
          "height": 87
        },
        "id": "a2MFSFNsSC4G",
        "outputId": "2f1385c7-ef78-407c-fe1a-52ea427fd3b9"
      },
      "outputs": [
        {
          "output_type": "execute_result",
          "data": {
            "text/plain": [
              "'(0.0)*1 + (0.10665006370762502)*x0 + (0.6454775653273184)*x1 + (2.479225879607156)*x2 + (-0.0009567818991779997)*x0^2 + (-0.0056073032054227145)*x0 x1 + (-0.03780173605013891)*x0 x2 + (-0.010673601861557984)*x1^2 + (-0.05006533237909562)*x1 x2 + (-1.751140944605882)*x2^2'"
            ],
            "application/vnd.google.colaboratory.intrinsic+json": {
              "type": "string"
            }
          },
          "metadata": {},
          "execution_count": 68
        }
      ],
      "source": [
        "' + '.join(['('+str(c)+')*'+f for c,f in\n",
        "          zip(model_linpoly.coef_, model_linpoly.feature_names_)])"
      ]
    },
    {
      "cell_type": "markdown",
      "metadata": {
        "id": "ChLfx2lsSC4H"
      },
      "source": [
        "En este formato $X0, X1 y X2$ corresponden a nuestras columnas elegidas para el ejemplo: *residual_sugar, alcohol, citric_acid*  \n",
        "\n",
        "Pero no es necesario realizar este calculo cada vez que queramos predecir un dato nuevo. El modelo nos entrega predicciones de un nuevo set de datos usando la función *predict*"
      ]
    },
    {
      "cell_type": "code",
      "execution_count": null,
      "metadata": {
        "colab": {
          "base_uri": "https://localhost:8080/"
        },
        "id": "P6irAx9rSC4H",
        "outputId": "9410df7c-7dbb-44f9-971e-20571eaecb71"
      },
      "outputs": [
        {
          "output_type": "stream",
          "name": "stdout",
          "text": [
            "[6.46198484 6.02779122 6.2357096  ... 5.731812   5.92737537 6.61237207]\n"
          ]
        }
      ],
      "source": [
        "print(model_linpoly.predict(x_test_poly))"
      ]
    },
    {
      "cell_type": "markdown",
      "metadata": {
        "id": "DgVywTvwSC4H"
      },
      "source": [
        "**Taller**  \n",
        "Juegue un poco con las variables a incluir o no en el modelo, así como el grado de la regresión polinomial para ver si logra aumentar el score del modelo.\n",
        "\n",
        "Una vez encuentre un modelo que considere adecuado, vamos a a guardarlo para futuros laboratorios:"
      ]
    },
    {
      "cell_type": "code",
      "execution_count": null,
      "metadata": {
        "id": "lmd086KLSC4H"
      },
      "outputs": [],
      "source": [
        "with open(\"/content/drive/MyDrive/CIENCIA_DATOS/modelos/model_poly.pkl\", \"wb\") as f:\n",
        "    pickle.dump(model_linpoly, f)"
      ]
    },
    {
      "cell_type": "markdown",
      "metadata": {
        "id": "pWv7EkOxTh2r"
      },
      "source": [
        "## segundo modelo polinomio\n",
        "1. se cambia el graado del pol\n",
        "2. se cambian las columnas de los  datos"
      ]
    },
    {
      "cell_type": "markdown",
      "metadata": {
        "id": "0bTLE9ZtZ2YO"
      },
      "source": [
        "##1"
      ]
    },
    {
      "cell_type": "code",
      "execution_count": null,
      "metadata": {
        "colab": {
          "base_uri": "https://localhost:8080/"
        },
        "id": "JLfbqMHhTeqo",
        "outputId": "cd6f6b60-10de-49f1-bb8b-5c26d49b7f7d"
      },
      "outputs": [
        {
          "output_type": "stream",
          "name": "stderr",
          "text": [
            "/usr/local/lib/python3.7/dist-packages/sklearn/utils/deprecation.py:87: FutureWarning: Function get_feature_names is deprecated; get_feature_names is deprecated in 1.0 and will be removed in 1.2. Please use get_feature_names_out instead.\n",
            "  warnings.warn(msg, category=FutureWarning)\n"
          ]
        },
        {
          "output_type": "execute_result",
          "data": {
            "text/plain": [
              "-0.3191370413489376"
            ]
          },
          "metadata": {},
          "execution_count": 71
        }
      ],
      "source": [
        "model_poly_1 = PolynomialFeatures(degree=3)\n",
        "x_train_poly = model_poly_1.fit_transform(x_train)\n",
        "x_test_poly = model_poly_1.fit_transform(x_test)\n",
        "\n",
        "model_linpoly_1 = LinearRegression()\n",
        "model_linpoly_1.fit(x_train_poly, y_train)\n",
        "model_linpoly_1.feature_names_ = model_poly_1.get_feature_names()\n",
        "\n",
        "model_linpoly_1.score(x_test_poly, y_test)"
      ]
    },
    {
      "cell_type": "code",
      "execution_count": null,
      "metadata": {
        "id": "ZPT2N0zDXGhw",
        "colab": {
          "base_uri": "https://localhost:8080/"
        },
        "outputId": "5d68d041-e5d0-4b65-b7ea-0555d30761ce"
      },
      "outputs": [
        {
          "output_type": "stream",
          "name": "stdout",
          "text": [
            "[ 0.00000000e+00  3.67899826e-01 -2.73389549e+00  7.44377423e+00\n",
            "  1.69184278e-02 -7.17428608e-02 -4.25558299e-01  3.13645266e-01\n",
            " -6.39543039e-02 -8.89235892e+00 -9.36273417e-05 -1.67117124e-03\n",
            "  3.92784537e-03  3.99541969e-03  2.82320057e-02  6.92278350e-02\n",
            " -1.02103419e-02 -1.56394923e-02  7.25384020e-02  3.31318214e+00]\n",
            "Cantidad de coeficientes: 20\n"
          ]
        }
      ],
      "source": [
        "print(model_linpoly_1.coef_)\n",
        "print('Cantidad de coeficientes: ' + str(len(model_linpoly_1.coef_)))"
      ]
    },
    {
      "cell_type": "code",
      "execution_count": null,
      "metadata": {
        "id": "SDsc0LHyWKxM"
      },
      "outputs": [],
      "source": [
        "with open(\"/content/drive/MyDrive/CIENCIA_DATOS/modelos/model_poly_1.pkl\", \"wb\") as f:\n",
        "    pickle.dump(model_linpoly_1, f)"
      ]
    },
    {
      "cell_type": "markdown",
      "metadata": {
        "id": "XRMCbFufZ9hj"
      },
      "source": [
        "##2"
      ]
    },
    {
      "cell_type": "code",
      "execution_count": null,
      "metadata": {
        "id": "ptByr72zaY9H",
        "colab": {
          "base_uri": "https://localhost:8080/",
          "height": 424
        },
        "outputId": "5a717348-6de9-4b7f-fe92-049908912ac2"
      },
      "outputs": [
        {
          "output_type": "execute_result",
          "data": {
            "text/plain": [
              "      residual_sugar  alcohol  citric_acid  volatile_acidity  citric_acid\n",
              "297              9.3     10.4         0.44              0.28         0.44\n",
              "969              6.0      9.7         0.24              0.47         0.24\n",
              "3814             6.5     10.2         0.24              0.20         0.24\n",
              "598             14.4      9.1         0.34              0.26         0.34\n",
              "3673             1.0      9.5         0.57              0.29         0.57\n",
              "...              ...      ...          ...               ...          ...\n",
              "2057             6.1      9.7         0.38              0.23         0.38\n",
              "1088             0.8      9.5         0.27              0.45         0.27\n",
              "479              1.6      9.1         0.37              0.18         0.37\n",
              "727             13.7      9.0         0.19              0.23         0.19\n",
              "3023             1.4     11.4         0.32              0.16         0.32\n",
              "\n",
              "[1339 rows x 5 columns]"
            ],
            "text/html": [
              "\n",
              "  <div id=\"df-766d7d3c-7235-4164-9856-ce755b762d89\">\n",
              "    <div class=\"colab-df-container\">\n",
              "      <div>\n",
              "<style scoped>\n",
              "    .dataframe tbody tr th:only-of-type {\n",
              "        vertical-align: middle;\n",
              "    }\n",
              "\n",
              "    .dataframe tbody tr th {\n",
              "        vertical-align: top;\n",
              "    }\n",
              "\n",
              "    .dataframe thead th {\n",
              "        text-align: right;\n",
              "    }\n",
              "</style>\n",
              "<table border=\"1\" class=\"dataframe\">\n",
              "  <thead>\n",
              "    <tr style=\"text-align: right;\">\n",
              "      <th></th>\n",
              "      <th>residual_sugar</th>\n",
              "      <th>alcohol</th>\n",
              "      <th>citric_acid</th>\n",
              "      <th>volatile_acidity</th>\n",
              "      <th>citric_acid</th>\n",
              "    </tr>\n",
              "  </thead>\n",
              "  <tbody>\n",
              "    <tr>\n",
              "      <th>297</th>\n",
              "      <td>9.3</td>\n",
              "      <td>10.4</td>\n",
              "      <td>0.44</td>\n",
              "      <td>0.28</td>\n",
              "      <td>0.44</td>\n",
              "    </tr>\n",
              "    <tr>\n",
              "      <th>969</th>\n",
              "      <td>6.0</td>\n",
              "      <td>9.7</td>\n",
              "      <td>0.24</td>\n",
              "      <td>0.47</td>\n",
              "      <td>0.24</td>\n",
              "    </tr>\n",
              "    <tr>\n",
              "      <th>3814</th>\n",
              "      <td>6.5</td>\n",
              "      <td>10.2</td>\n",
              "      <td>0.24</td>\n",
              "      <td>0.20</td>\n",
              "      <td>0.24</td>\n",
              "    </tr>\n",
              "    <tr>\n",
              "      <th>598</th>\n",
              "      <td>14.4</td>\n",
              "      <td>9.1</td>\n",
              "      <td>0.34</td>\n",
              "      <td>0.26</td>\n",
              "      <td>0.34</td>\n",
              "    </tr>\n",
              "    <tr>\n",
              "      <th>3673</th>\n",
              "      <td>1.0</td>\n",
              "      <td>9.5</td>\n",
              "      <td>0.57</td>\n",
              "      <td>0.29</td>\n",
              "      <td>0.57</td>\n",
              "    </tr>\n",
              "    <tr>\n",
              "      <th>...</th>\n",
              "      <td>...</td>\n",
              "      <td>...</td>\n",
              "      <td>...</td>\n",
              "      <td>...</td>\n",
              "      <td>...</td>\n",
              "    </tr>\n",
              "    <tr>\n",
              "      <th>2057</th>\n",
              "      <td>6.1</td>\n",
              "      <td>9.7</td>\n",
              "      <td>0.38</td>\n",
              "      <td>0.23</td>\n",
              "      <td>0.38</td>\n",
              "    </tr>\n",
              "    <tr>\n",
              "      <th>1088</th>\n",
              "      <td>0.8</td>\n",
              "      <td>9.5</td>\n",
              "      <td>0.27</td>\n",
              "      <td>0.45</td>\n",
              "      <td>0.27</td>\n",
              "    </tr>\n",
              "    <tr>\n",
              "      <th>479</th>\n",
              "      <td>1.6</td>\n",
              "      <td>9.1</td>\n",
              "      <td>0.37</td>\n",
              "      <td>0.18</td>\n",
              "      <td>0.37</td>\n",
              "    </tr>\n",
              "    <tr>\n",
              "      <th>727</th>\n",
              "      <td>13.7</td>\n",
              "      <td>9.0</td>\n",
              "      <td>0.19</td>\n",
              "      <td>0.23</td>\n",
              "      <td>0.19</td>\n",
              "    </tr>\n",
              "    <tr>\n",
              "      <th>3023</th>\n",
              "      <td>1.4</td>\n",
              "      <td>11.4</td>\n",
              "      <td>0.32</td>\n",
              "      <td>0.16</td>\n",
              "      <td>0.32</td>\n",
              "    </tr>\n",
              "  </tbody>\n",
              "</table>\n",
              "<p>1339 rows × 5 columns</p>\n",
              "</div>\n",
              "      <button class=\"colab-df-convert\" onclick=\"convertToInteractive('df-766d7d3c-7235-4164-9856-ce755b762d89')\"\n",
              "              title=\"Convert this dataframe to an interactive table.\"\n",
              "              style=\"display:none;\">\n",
              "        \n",
              "  <svg xmlns=\"http://www.w3.org/2000/svg\" height=\"24px\"viewBox=\"0 0 24 24\"\n",
              "       width=\"24px\">\n",
              "    <path d=\"M0 0h24v24H0V0z\" fill=\"none\"/>\n",
              "    <path d=\"M18.56 5.44l.94 2.06.94-2.06 2.06-.94-2.06-.94-.94-2.06-.94 2.06-2.06.94zm-11 1L8.5 8.5l.94-2.06 2.06-.94-2.06-.94L8.5 2.5l-.94 2.06-2.06.94zm10 10l.94 2.06.94-2.06 2.06-.94-2.06-.94-.94-2.06-.94 2.06-2.06.94z\"/><path d=\"M17.41 7.96l-1.37-1.37c-.4-.4-.92-.59-1.43-.59-.52 0-1.04.2-1.43.59L10.3 9.45l-7.72 7.72c-.78.78-.78 2.05 0 2.83L4 21.41c.39.39.9.59 1.41.59.51 0 1.02-.2 1.41-.59l7.78-7.78 2.81-2.81c.8-.78.8-2.07 0-2.86zM5.41 20L4 18.59l7.72-7.72 1.47 1.35L5.41 20z\"/>\n",
              "  </svg>\n",
              "      </button>\n",
              "      \n",
              "  <style>\n",
              "    .colab-df-container {\n",
              "      display:flex;\n",
              "      flex-wrap:wrap;\n",
              "      gap: 12px;\n",
              "    }\n",
              "\n",
              "    .colab-df-convert {\n",
              "      background-color: #E8F0FE;\n",
              "      border: none;\n",
              "      border-radius: 50%;\n",
              "      cursor: pointer;\n",
              "      display: none;\n",
              "      fill: #1967D2;\n",
              "      height: 32px;\n",
              "      padding: 0 0 0 0;\n",
              "      width: 32px;\n",
              "    }\n",
              "\n",
              "    .colab-df-convert:hover {\n",
              "      background-color: #E2EBFA;\n",
              "      box-shadow: 0px 1px 2px rgba(60, 64, 67, 0.3), 0px 1px 3px 1px rgba(60, 64, 67, 0.15);\n",
              "      fill: #174EA6;\n",
              "    }\n",
              "\n",
              "    [theme=dark] .colab-df-convert {\n",
              "      background-color: #3B4455;\n",
              "      fill: #D2E3FC;\n",
              "    }\n",
              "\n",
              "    [theme=dark] .colab-df-convert:hover {\n",
              "      background-color: #434B5C;\n",
              "      box-shadow: 0px 1px 3px 1px rgba(0, 0, 0, 0.15);\n",
              "      filter: drop-shadow(0px 1px 2px rgba(0, 0, 0, 0.3));\n",
              "      fill: #FFFFFF;\n",
              "    }\n",
              "  </style>\n",
              "\n",
              "      <script>\n",
              "        const buttonEl =\n",
              "          document.querySelector('#df-766d7d3c-7235-4164-9856-ce755b762d89 button.colab-df-convert');\n",
              "        buttonEl.style.display =\n",
              "          google.colab.kernel.accessAllowed ? 'block' : 'none';\n",
              "\n",
              "        async function convertToInteractive(key) {\n",
              "          const element = document.querySelector('#df-766d7d3c-7235-4164-9856-ce755b762d89');\n",
              "          const dataTable =\n",
              "            await google.colab.kernel.invokeFunction('convertToInteractive',\n",
              "                                                     [key], {});\n",
              "          if (!dataTable) return;\n",
              "\n",
              "          const docLinkHtml = 'Like what you see? Visit the ' +\n",
              "            '<a target=\"_blank\" href=https://colab.research.google.com/notebooks/data_table.ipynb>data table notebook</a>'\n",
              "            + ' to learn more about interactive tables.';\n",
              "          element.innerHTML = '';\n",
              "          dataTable['output_type'] = 'display_data';\n",
              "          await google.colab.output.renderOutput(dataTable, element);\n",
              "          const docLink = document.createElement('div');\n",
              "          docLink.innerHTML = docLinkHtml;\n",
              "          element.appendChild(docLink);\n",
              "        }\n",
              "      </script>\n",
              "    </div>\n",
              "  </div>\n",
              "  "
            ]
          },
          "metadata": {},
          "execution_count": 74
        }
      ],
      "source": [
        "x_train, x_test, y_train, y_test = train_test_split(x, y, test_size=0.3, random_state=42)\n",
        "columnas_1 = ['residual_sugar', 'alcohol', 'citric_acid','volatile_acidity','citric_acid']\n",
        "\n",
        "x_train_1 = x_train[columnas_1]\n",
        "x_test_1 = x_test[columnas_1]\n",
        "x_test_1"
      ]
    },
    {
      "cell_type": "code",
      "execution_count": null,
      "metadata": {
        "id": "0pTzFkuKa1d8",
        "colab": {
          "base_uri": "https://localhost:8080/"
        },
        "outputId": "18cf7416-5527-496f-9bc0-6edb5928d48a"
      },
      "outputs": [
        {
          "output_type": "stream",
          "name": "stderr",
          "text": [
            "/usr/local/lib/python3.7/dist-packages/sklearn/utils/deprecation.py:87: FutureWarning: Function get_feature_names is deprecated; get_feature_names is deprecated in 1.0 and will be removed in 1.2. Please use get_feature_names_out instead.\n",
            "  warnings.warn(msg, category=FutureWarning)\n"
          ]
        },
        {
          "output_type": "execute_result",
          "data": {
            "text/plain": [
              "0.2720378421780657"
            ]
          },
          "metadata": {},
          "execution_count": 75
        }
      ],
      "source": [
        "model_poly_2 = PolynomialFeatures(degree=2)\n",
        "x_train_poly = model_poly_2.fit_transform(x_train_1)\n",
        "x_test_poly = model_poly_2.fit_transform(x_test_1)\n",
        "\n",
        "model_linpoly_2 = LinearRegression()\n",
        "model_linpoly_2.fit(x_train_poly, y_train)\n",
        "model_linpoly_2.feature_names_ = model_poly_2.get_feature_names()\n",
        "\n",
        "model_linpoly_2.score(x_test_poly, y_test)"
      ]
    },
    {
      "cell_type": "code",
      "execution_count": null,
      "metadata": {
        "id": "NrUp8rlZaKhX",
        "colab": {
          "base_uri": "https://localhost:8080/"
        },
        "outputId": "de3d4ede-06a7-4e5f-ca53-6601f089aac9"
      },
      "outputs": [
        {
          "output_type": "stream",
          "name": "stdout",
          "text": [
            "[ 0.00000000e+00  7.53167773e-02 -3.27642909e-02  4.64023815e-01\n",
            " -9.68388398e+00  4.64023815e-01 -1.80088679e-03 -3.83005336e-03\n",
            " -5.95866927e-03  7.18756923e-02 -5.95866927e-03  1.32204156e-02\n",
            " -4.22345253e-02  5.75178573e-01 -4.22345253e-02 -1.92367728e-01\n",
            "  7.30657902e-01 -1.92367728e-01  8.35988067e-01  7.30657902e-01\n",
            " -1.92367728e-01]\n",
            "Cantidad de coeficientes: 21\n"
          ]
        }
      ],
      "source": [
        "print(model_linpoly_2.coef_)\n",
        "print('Cantidad de coeficientes: ' + str(len(model_linpoly_2.coef_)))"
      ]
    },
    {
      "cell_type": "code",
      "execution_count": null,
      "metadata": {
        "id": "9_8G-X3xZknA"
      },
      "outputs": [],
      "source": [
        "with open(\"/content/drive/MyDrive/CIENCIA_DATOS/modelos/model_poly_2.pkl\", \"wb\") as f:\n",
        "    pickle.dump(model_linpoly_2, f)"
      ]
    },
    {
      "cell_type": "markdown",
      "metadata": {
        "id": "eMDOHgMYSC4I"
      },
      "source": [
        "## 2b. Clasificación  \n",
        "Ya hemos visto porqué una regresión lineal es diferente a una clasificación, tanto en el concepto como matemáticamente:\n",
        "- Predecir una variable **categórica**\n",
        "- Se busca encontrar los patrones o similitudes entre cada *clase* para poder clasificar después un registro nuevo  \n",
        "\n",
        "Sin embargo, al igual que en la Regresión, lo primero que debemos hacer es separar nuestra variable objetivo (*high_quality*) de las variables predictivas"
      ]
    },
    {
      "cell_type": "code",
      "execution_count": null,
      "metadata": {
        "id": "Zeeu9dNYSC4I",
        "colab": {
          "base_uri": "https://localhost:8080/"
        },
        "outputId": "353caa51-523c-4a11-c9fc-bb40fb50f41d"
      },
      "outputs": [
        {
          "output_type": "execute_result",
          "data": {
            "text/plain": [
              "1571"
            ]
          },
          "metadata": {},
          "execution_count": 78
        }
      ],
      "source": [
        "wine_df = pd.read_csv('/content/drive/MyDrive/2. Materiales y evidencias (1)/Aprendizaje Automático/data/winequality-red_clean.csv')\n",
        "len(wine_df)"
      ]
    },
    {
      "cell_type": "code",
      "execution_count": null,
      "metadata": {
        "id": "XNfjjzK2SC4I",
        "colab": {
          "base_uri": "https://localhost:8080/",
          "height": 271
        },
        "outputId": "e09c7a07-b64c-41ae-ff24-4fbd0ddb101b"
      },
      "outputs": [
        {
          "output_type": "execute_result",
          "data": {
            "text/plain": [
              "   fixed_acidity  volatile_acidity  citric_acid  residual_sugar  chlorides  \\\n",
              "0            7.4              0.70         0.00             1.9      0.076   \n",
              "1            7.8              0.88         0.00             2.6      0.098   \n",
              "2            7.8              0.76         0.04             2.3      0.092   \n",
              "3           11.2              0.28         0.56             1.9      0.075   \n",
              "4            7.4              0.70         0.00             1.9      0.076   \n",
              "\n",
              "   free_sulfur_dioxide  total_sulfur_dioxide  density    pH  sulphates  \\\n",
              "0                 11.0                  34.0   0.9978  3.51       0.56   \n",
              "1                 25.0                  67.0   0.9968  3.20       0.68   \n",
              "2                 15.0                  54.0   0.9970  3.26       0.65   \n",
              "3                 17.0                  60.0   0.9980  3.16       0.58   \n",
              "4                 11.0                  34.0   0.9978  3.51       0.56   \n",
              "\n",
              "   alcohol  \n",
              "0      9.4  \n",
              "1      9.8  \n",
              "2      9.8  \n",
              "3      9.8  \n",
              "4      9.4  "
            ],
            "text/html": [
              "\n",
              "  <div id=\"df-1005a1d1-4e1e-4a65-9283-9dc29bf6bff0\">\n",
              "    <div class=\"colab-df-container\">\n",
              "      <div>\n",
              "<style scoped>\n",
              "    .dataframe tbody tr th:only-of-type {\n",
              "        vertical-align: middle;\n",
              "    }\n",
              "\n",
              "    .dataframe tbody tr th {\n",
              "        vertical-align: top;\n",
              "    }\n",
              "\n",
              "    .dataframe thead th {\n",
              "        text-align: right;\n",
              "    }\n",
              "</style>\n",
              "<table border=\"1\" class=\"dataframe\">\n",
              "  <thead>\n",
              "    <tr style=\"text-align: right;\">\n",
              "      <th></th>\n",
              "      <th>fixed_acidity</th>\n",
              "      <th>volatile_acidity</th>\n",
              "      <th>citric_acid</th>\n",
              "      <th>residual_sugar</th>\n",
              "      <th>chlorides</th>\n",
              "      <th>free_sulfur_dioxide</th>\n",
              "      <th>total_sulfur_dioxide</th>\n",
              "      <th>density</th>\n",
              "      <th>pH</th>\n",
              "      <th>sulphates</th>\n",
              "      <th>alcohol</th>\n",
              "    </tr>\n",
              "  </thead>\n",
              "  <tbody>\n",
              "    <tr>\n",
              "      <th>0</th>\n",
              "      <td>7.4</td>\n",
              "      <td>0.70</td>\n",
              "      <td>0.00</td>\n",
              "      <td>1.9</td>\n",
              "      <td>0.076</td>\n",
              "      <td>11.0</td>\n",
              "      <td>34.0</td>\n",
              "      <td>0.9978</td>\n",
              "      <td>3.51</td>\n",
              "      <td>0.56</td>\n",
              "      <td>9.4</td>\n",
              "    </tr>\n",
              "    <tr>\n",
              "      <th>1</th>\n",
              "      <td>7.8</td>\n",
              "      <td>0.88</td>\n",
              "      <td>0.00</td>\n",
              "      <td>2.6</td>\n",
              "      <td>0.098</td>\n",
              "      <td>25.0</td>\n",
              "      <td>67.0</td>\n",
              "      <td>0.9968</td>\n",
              "      <td>3.20</td>\n",
              "      <td>0.68</td>\n",
              "      <td>9.8</td>\n",
              "    </tr>\n",
              "    <tr>\n",
              "      <th>2</th>\n",
              "      <td>7.8</td>\n",
              "      <td>0.76</td>\n",
              "      <td>0.04</td>\n",
              "      <td>2.3</td>\n",
              "      <td>0.092</td>\n",
              "      <td>15.0</td>\n",
              "      <td>54.0</td>\n",
              "      <td>0.9970</td>\n",
              "      <td>3.26</td>\n",
              "      <td>0.65</td>\n",
              "      <td>9.8</td>\n",
              "    </tr>\n",
              "    <tr>\n",
              "      <th>3</th>\n",
              "      <td>11.2</td>\n",
              "      <td>0.28</td>\n",
              "      <td>0.56</td>\n",
              "      <td>1.9</td>\n",
              "      <td>0.075</td>\n",
              "      <td>17.0</td>\n",
              "      <td>60.0</td>\n",
              "      <td>0.9980</td>\n",
              "      <td>3.16</td>\n",
              "      <td>0.58</td>\n",
              "      <td>9.8</td>\n",
              "    </tr>\n",
              "    <tr>\n",
              "      <th>4</th>\n",
              "      <td>7.4</td>\n",
              "      <td>0.70</td>\n",
              "      <td>0.00</td>\n",
              "      <td>1.9</td>\n",
              "      <td>0.076</td>\n",
              "      <td>11.0</td>\n",
              "      <td>34.0</td>\n",
              "      <td>0.9978</td>\n",
              "      <td>3.51</td>\n",
              "      <td>0.56</td>\n",
              "      <td>9.4</td>\n",
              "    </tr>\n",
              "  </tbody>\n",
              "</table>\n",
              "</div>\n",
              "      <button class=\"colab-df-convert\" onclick=\"convertToInteractive('df-1005a1d1-4e1e-4a65-9283-9dc29bf6bff0')\"\n",
              "              title=\"Convert this dataframe to an interactive table.\"\n",
              "              style=\"display:none;\">\n",
              "        \n",
              "  <svg xmlns=\"http://www.w3.org/2000/svg\" height=\"24px\"viewBox=\"0 0 24 24\"\n",
              "       width=\"24px\">\n",
              "    <path d=\"M0 0h24v24H0V0z\" fill=\"none\"/>\n",
              "    <path d=\"M18.56 5.44l.94 2.06.94-2.06 2.06-.94-2.06-.94-.94-2.06-.94 2.06-2.06.94zm-11 1L8.5 8.5l.94-2.06 2.06-.94-2.06-.94L8.5 2.5l-.94 2.06-2.06.94zm10 10l.94 2.06.94-2.06 2.06-.94-2.06-.94-.94-2.06-.94 2.06-2.06.94z\"/><path d=\"M17.41 7.96l-1.37-1.37c-.4-.4-.92-.59-1.43-.59-.52 0-1.04.2-1.43.59L10.3 9.45l-7.72 7.72c-.78.78-.78 2.05 0 2.83L4 21.41c.39.39.9.59 1.41.59.51 0 1.02-.2 1.41-.59l7.78-7.78 2.81-2.81c.8-.78.8-2.07 0-2.86zM5.41 20L4 18.59l7.72-7.72 1.47 1.35L5.41 20z\"/>\n",
              "  </svg>\n",
              "      </button>\n",
              "      \n",
              "  <style>\n",
              "    .colab-df-container {\n",
              "      display:flex;\n",
              "      flex-wrap:wrap;\n",
              "      gap: 12px;\n",
              "    }\n",
              "\n",
              "    .colab-df-convert {\n",
              "      background-color: #E8F0FE;\n",
              "      border: none;\n",
              "      border-radius: 50%;\n",
              "      cursor: pointer;\n",
              "      display: none;\n",
              "      fill: #1967D2;\n",
              "      height: 32px;\n",
              "      padding: 0 0 0 0;\n",
              "      width: 32px;\n",
              "    }\n",
              "\n",
              "    .colab-df-convert:hover {\n",
              "      background-color: #E2EBFA;\n",
              "      box-shadow: 0px 1px 2px rgba(60, 64, 67, 0.3), 0px 1px 3px 1px rgba(60, 64, 67, 0.15);\n",
              "      fill: #174EA6;\n",
              "    }\n",
              "\n",
              "    [theme=dark] .colab-df-convert {\n",
              "      background-color: #3B4455;\n",
              "      fill: #D2E3FC;\n",
              "    }\n",
              "\n",
              "    [theme=dark] .colab-df-convert:hover {\n",
              "      background-color: #434B5C;\n",
              "      box-shadow: 0px 1px 3px 1px rgba(0, 0, 0, 0.15);\n",
              "      filter: drop-shadow(0px 1px 2px rgba(0, 0, 0, 0.3));\n",
              "      fill: #FFFFFF;\n",
              "    }\n",
              "  </style>\n",
              "\n",
              "      <script>\n",
              "        const buttonEl =\n",
              "          document.querySelector('#df-1005a1d1-4e1e-4a65-9283-9dc29bf6bff0 button.colab-df-convert');\n",
              "        buttonEl.style.display =\n",
              "          google.colab.kernel.accessAllowed ? 'block' : 'none';\n",
              "\n",
              "        async function convertToInteractive(key) {\n",
              "          const element = document.querySelector('#df-1005a1d1-4e1e-4a65-9283-9dc29bf6bff0');\n",
              "          const dataTable =\n",
              "            await google.colab.kernel.invokeFunction('convertToInteractive',\n",
              "                                                     [key], {});\n",
              "          if (!dataTable) return;\n",
              "\n",
              "          const docLinkHtml = 'Like what you see? Visit the ' +\n",
              "            '<a target=\"_blank\" href=https://colab.research.google.com/notebooks/data_table.ipynb>data table notebook</a>'\n",
              "            + ' to learn more about interactive tables.';\n",
              "          element.innerHTML = '';\n",
              "          dataTable['output_type'] = 'display_data';\n",
              "          await google.colab.output.renderOutput(dataTable, element);\n",
              "          const docLink = document.createElement('div');\n",
              "          docLink.innerHTML = docLinkHtml;\n",
              "          element.appendChild(docLink);\n",
              "        }\n",
              "      </script>\n",
              "    </div>\n",
              "  </div>\n",
              "  "
            ]
          },
          "metadata": {},
          "execution_count": 79
        }
      ],
      "source": [
        "y = wine_df['high_quality']\n",
        "x = wine_df.drop(['high_quality'], axis=1)\n",
        "x.head()"
      ]
    },
    {
      "cell_type": "markdown",
      "metadata": {
        "id": "xLZjuXehSC4J"
      },
      "source": [
        "### Regresion Logística\n",
        "\n",
        "Similar a una regresión lineal, busca definir el comportamiento de los datos a través de una **ecuación**, con la diferencia que en este caso estamos buscando una variable categórica (1/0 o SI/NO), por lo que no nos serviría una ecuación que retorne un valor entre $(-\\infty, \\infty)$.  \n",
        "Sin embago, al ser una ecuación, asume que los datos son linealmente separables:\n",
        "\n",
        "![Logit](https://qph.fs.quoracdn.net/main-qimg-4ddda954955cabf0fb59364cc37232b7.webp)\n",
        "\n",
        "- **Precisión:** Alta, para variables no correlacionadas y modelos linealmente separables\n",
        "- **Velocidad:** Rápido\n",
        "- **Explicativo:** Mucho (Peso/Importancia de cada variable)\n",
        "- **Sensible a cambios:** Mucho, asume que los datos son separables linealmente\n",
        "- **Deteminístico**: No, probabilístico"
      ]
    },
    {
      "cell_type": "code",
      "execution_count": null,
      "metadata": {
        "id": "MeX2rPnJSC4J"
      },
      "outputs": [],
      "source": [
        "x_train, x_test, y_train, y_test = train_test_split(x, y, test_size=0.2, random_state=42)"
      ]
    },
    {
      "cell_type": "code",
      "execution_count": null,
      "metadata": {
        "id": "8CPiXt1LSC4K",
        "colab": {
          "base_uri": "https://localhost:8080/"
        },
        "outputId": "938594b2-8468-4f8c-eeb0-eaae26de5dee"
      },
      "outputs": [
        {
          "output_type": "stream",
          "name": "stdout",
          "text": [
            "Score: 0.7428571428571429\n"
          ]
        }
      ],
      "source": [
        "model_log = LogisticRegression(solver='liblinear')\n",
        "model_log.fit(x_train, y_train)\n",
        "print('Score: {}'.format(model_log.score(x_test, y_test)))"
      ]
    },
    {
      "cell_type": "markdown",
      "metadata": {
        "id": "2uJvlV_PSC4L"
      },
      "source": [
        "Nuevamente hemos entrenado el modelo con los datos de entrenamiento y calculamos el error con datos de prueba, aunque no parece un score tan malo, veamos cómo se comporta el modelo:"
      ]
    },
    {
      "cell_type": "code",
      "execution_count": null,
      "metadata": {
        "id": "ZpsAYDgdSC4L",
        "colab": {
          "base_uri": "https://localhost:8080/"
        },
        "outputId": "7e48c93b-71f8-4841-b8e2-b8fad838f567"
      },
      "outputs": [
        {
          "output_type": "execute_result",
          "data": {
            "text/plain": [
              "array([[0.75588046, 0.24411954],\n",
              "       [0.72383716, 0.27616284],\n",
              "       [0.07711102, 0.92288898],\n",
              "       [0.61991621, 0.38008379],\n",
              "       [0.50672766, 0.49327234],\n",
              "       [0.66317948, 0.33682052],\n",
              "       [0.81071664, 0.18928336],\n",
              "       [0.57501468, 0.42498532],\n",
              "       [0.68301286, 0.31698714],\n",
              "       [0.79591488, 0.20408512],\n",
              "       [0.48600368, 0.51399632],\n",
              "       [0.20497592, 0.79502408],\n",
              "       [0.72262763, 0.27737237],\n",
              "       [0.13208678, 0.86791322],\n",
              "       [0.85476631, 0.14523369],\n",
              "       [0.19953157, 0.80046843],\n",
              "       [0.23882103, 0.76117897],\n",
              "       [0.88076538, 0.11923462],\n",
              "       [0.33251711, 0.66748289],\n",
              "       [0.11661223, 0.88338777],\n",
              "       [0.77295117, 0.22704883],\n",
              "       [0.16632986, 0.83367014],\n",
              "       [0.26724604, 0.73275396],\n",
              "       [0.57259993, 0.42740007],\n",
              "       [0.85692706, 0.14307294],\n",
              "       [0.2836566 , 0.7163434 ],\n",
              "       [0.58860739, 0.41139261],\n",
              "       [0.10259215, 0.89740785],\n",
              "       [0.26079696, 0.73920304],\n",
              "       [0.32043262, 0.67956738],\n",
              "       [0.28071331, 0.71928669],\n",
              "       [0.75052205, 0.24947795],\n",
              "       [0.40232059, 0.59767941],\n",
              "       [0.81081696, 0.18918304],\n",
              "       [0.79345493, 0.20654507],\n",
              "       [0.57102624, 0.42897376],\n",
              "       [0.01560999, 0.98439001],\n",
              "       [0.81581758, 0.18418242],\n",
              "       [0.22919412, 0.77080588],\n",
              "       [0.17242015, 0.82757985],\n",
              "       [0.58708533, 0.41291467],\n",
              "       [0.31821014, 0.68178986],\n",
              "       [0.7114425 , 0.2885575 ],\n",
              "       [0.07316016, 0.92683984],\n",
              "       [0.4259022 , 0.5740978 ],\n",
              "       [0.91730783, 0.08269217],\n",
              "       [0.64619946, 0.35380054],\n",
              "       [0.48004196, 0.51995804],\n",
              "       [0.93259945, 0.06740055],\n",
              "       [0.19801774, 0.80198226],\n",
              "       [0.72103157, 0.27896843],\n",
              "       [0.73614481, 0.26385519],\n",
              "       [0.07350027, 0.92649973],\n",
              "       [0.04979908, 0.95020092],\n",
              "       [0.60161567, 0.39838433],\n",
              "       [0.2292457 , 0.7707543 ],\n",
              "       [0.45740621, 0.54259379],\n",
              "       [0.08170779, 0.91829221],\n",
              "       [0.38628052, 0.61371948],\n",
              "       [0.32902292, 0.67097708],\n",
              "       [0.27445793, 0.72554207],\n",
              "       [0.30339021, 0.69660979],\n",
              "       [0.5939863 , 0.4060137 ],\n",
              "       [0.42311319, 0.57688681],\n",
              "       [0.77854968, 0.22145032],\n",
              "       [0.47336126, 0.52663874],\n",
              "       [0.05756176, 0.94243824],\n",
              "       [0.35751878, 0.64248122],\n",
              "       [0.07524861, 0.92475139],\n",
              "       [0.06468113, 0.93531887],\n",
              "       [0.05787475, 0.94212525],\n",
              "       [0.74130277, 0.25869723],\n",
              "       [0.56299782, 0.43700218],\n",
              "       [0.84773328, 0.15226672],\n",
              "       [0.83955528, 0.16044472],\n",
              "       [0.67075873, 0.32924127],\n",
              "       [0.13860355, 0.86139645],\n",
              "       [0.04512806, 0.95487194],\n",
              "       [0.58695276, 0.41304724],\n",
              "       [0.14528454, 0.85471546],\n",
              "       [0.06074171, 0.93925829],\n",
              "       [0.17743454, 0.82256546],\n",
              "       [0.6571809 , 0.3428191 ],\n",
              "       [0.46924909, 0.53075091],\n",
              "       [0.08912015, 0.91087985],\n",
              "       [0.67123163, 0.32876837],\n",
              "       [0.34509513, 0.65490487],\n",
              "       [0.15115545, 0.84884455],\n",
              "       [0.61402449, 0.38597551],\n",
              "       [0.47902464, 0.52097536],\n",
              "       [0.76452523, 0.23547477],\n",
              "       [0.55291395, 0.44708605],\n",
              "       [0.54759261, 0.45240739],\n",
              "       [0.71166359, 0.28833641],\n",
              "       [0.08582059, 0.91417941],\n",
              "       [0.5737105 , 0.4262895 ],\n",
              "       [0.6557128 , 0.3442872 ],\n",
              "       [0.86196004, 0.13803996],\n",
              "       [0.87829342, 0.12170658],\n",
              "       [0.55657166, 0.44342834],\n",
              "       [0.25482164, 0.74517836],\n",
              "       [0.7606248 , 0.2393752 ],\n",
              "       [0.82582926, 0.17417074],\n",
              "       [0.81968092, 0.18031908],\n",
              "       [0.02694016, 0.97305984],\n",
              "       [0.04765303, 0.95234697],\n",
              "       [0.0169527 , 0.9830473 ],\n",
              "       [0.77838081, 0.22161919],\n",
              "       [0.10716175, 0.89283825],\n",
              "       [0.17776093, 0.82223907],\n",
              "       [0.371447  , 0.628553  ],\n",
              "       [0.42538612, 0.57461388],\n",
              "       [0.44113133, 0.55886867],\n",
              "       [0.18954886, 0.81045114],\n",
              "       [0.04618426, 0.95381574],\n",
              "       [0.13958585, 0.86041415],\n",
              "       [0.6070977 , 0.3929023 ],\n",
              "       [0.88576623, 0.11423377],\n",
              "       [0.38869996, 0.61130004],\n",
              "       [0.36714517, 0.63285483],\n",
              "       [0.89730017, 0.10269983],\n",
              "       [0.12709939, 0.87290061],\n",
              "       [0.1465908 , 0.8534092 ],\n",
              "       [0.11159158, 0.88840842],\n",
              "       [0.07779546, 0.92220454],\n",
              "       [0.12944793, 0.87055207],\n",
              "       [0.30078638, 0.69921362],\n",
              "       [0.76660457, 0.23339543],\n",
              "       [0.47517578, 0.52482422],\n",
              "       [0.84347112, 0.15652888],\n",
              "       [0.43109472, 0.56890528],\n",
              "       [0.06183045, 0.93816955],\n",
              "       [0.77038882, 0.22961118],\n",
              "       [0.81850764, 0.18149236],\n",
              "       [0.22707976, 0.77292024],\n",
              "       [0.20088302, 0.79911698],\n",
              "       [0.56961476, 0.43038524],\n",
              "       [0.12841803, 0.87158197],\n",
              "       [0.69647726, 0.30352274],\n",
              "       [0.59382543, 0.40617457],\n",
              "       [0.12370684, 0.87629316],\n",
              "       [0.4648223 , 0.5351777 ],\n",
              "       [0.86992775, 0.13007225],\n",
              "       [0.36486977, 0.63513023],\n",
              "       [0.77649102, 0.22350898],\n",
              "       [0.35654759, 0.64345241],\n",
              "       [0.56796589, 0.43203411],\n",
              "       [0.11303573, 0.88696427],\n",
              "       [0.89329785, 0.10670215],\n",
              "       [0.82485449, 0.17514551],\n",
              "       [0.44884206, 0.55115794],\n",
              "       [0.10372706, 0.89627294],\n",
              "       [0.01697551, 0.98302449],\n",
              "       [0.7380487 , 0.2619513 ],\n",
              "       [0.6729054 , 0.3270946 ],\n",
              "       [0.36471116, 0.63528884],\n",
              "       [0.39244993, 0.60755007],\n",
              "       [0.4140708 , 0.5859292 ],\n",
              "       [0.77058628, 0.22941372],\n",
              "       [0.91848832, 0.08151168],\n",
              "       [0.47081222, 0.52918778],\n",
              "       [0.12911483, 0.87088517],\n",
              "       [0.57166714, 0.42833286],\n",
              "       [0.73214154, 0.26785846],\n",
              "       [0.70638209, 0.29361791],\n",
              "       [0.16995654, 0.83004346],\n",
              "       [0.34679681, 0.65320319],\n",
              "       [0.02416616, 0.97583384],\n",
              "       [0.85693861, 0.14306139],\n",
              "       [0.56650918, 0.43349082],\n",
              "       [0.39503198, 0.60496802],\n",
              "       [0.89963241, 0.10036759],\n",
              "       [0.32008929, 0.67991071],\n",
              "       [0.04037765, 0.95962235],\n",
              "       [0.47599207, 0.52400793],\n",
              "       [0.88080317, 0.11919683],\n",
              "       [0.78389272, 0.21610728],\n",
              "       [0.69780386, 0.30219614],\n",
              "       [0.86945684, 0.13054316],\n",
              "       [0.13658514, 0.86341486],\n",
              "       [0.66145805, 0.33854195],\n",
              "       [0.84614881, 0.15385119],\n",
              "       [0.6729054 , 0.3270946 ],\n",
              "       [0.58544162, 0.41455838],\n",
              "       [0.60550875, 0.39449125],\n",
              "       [0.019584  , 0.980416  ],\n",
              "       [0.30236177, 0.69763823],\n",
              "       [0.6174752 , 0.3825248 ],\n",
              "       [0.76029048, 0.23970952],\n",
              "       [0.85011494, 0.14988506],\n",
              "       [0.13882618, 0.86117382],\n",
              "       [0.49258784, 0.50741216],\n",
              "       [0.1994215 , 0.8005785 ],\n",
              "       [0.01961173, 0.98038827],\n",
              "       [0.84793979, 0.15206021],\n",
              "       [0.09556719, 0.90443281],\n",
              "       [0.66365361, 0.33634639],\n",
              "       [0.42046561, 0.57953439],\n",
              "       [0.73870429, 0.26129571],\n",
              "       [0.43683854, 0.56316146],\n",
              "       [0.55871868, 0.44128132],\n",
              "       [0.0496649 , 0.9503351 ],\n",
              "       [0.60544303, 0.39455697],\n",
              "       [0.07365686, 0.92634314],\n",
              "       [0.87250619, 0.12749381],\n",
              "       [0.68672542, 0.31327458],\n",
              "       [0.23035355, 0.76964645],\n",
              "       [0.2629402 , 0.7370598 ],\n",
              "       [0.18681818, 0.81318182],\n",
              "       [0.23177272, 0.76822728],\n",
              "       [0.76319316, 0.23680684],\n",
              "       [0.48405784, 0.51594216],\n",
              "       [0.38889878, 0.61110122],\n",
              "       [0.83755794, 0.16244206],\n",
              "       [0.74833926, 0.25166074],\n",
              "       [0.79539142, 0.20460858],\n",
              "       [0.61541965, 0.38458035],\n",
              "       [0.52741125, 0.47258875],\n",
              "       [0.20386437, 0.79613563],\n",
              "       [0.07180193, 0.92819807],\n",
              "       [0.77813428, 0.22186572],\n",
              "       [0.07048867, 0.92951133],\n",
              "       [0.73184759, 0.26815241],\n",
              "       [0.74557508, 0.25442492],\n",
              "       [0.09499177, 0.90500823],\n",
              "       [0.69239134, 0.30760866],\n",
              "       [0.79905054, 0.20094946],\n",
              "       [0.47854276, 0.52145724],\n",
              "       [0.52723261, 0.47276739],\n",
              "       [0.79712667, 0.20287333],\n",
              "       [0.08623431, 0.91376569],\n",
              "       [0.85383402, 0.14616598],\n",
              "       [0.51677593, 0.48322407],\n",
              "       [0.21031171, 0.78968829],\n",
              "       [0.82498237, 0.17501763],\n",
              "       [0.23840535, 0.76159465],\n",
              "       [0.85679726, 0.14320274],\n",
              "       [0.20738619, 0.79261381],\n",
              "       [0.19735302, 0.80264698],\n",
              "       [0.08442043, 0.91557957],\n",
              "       [0.40987366, 0.59012634],\n",
              "       [0.70266032, 0.29733968],\n",
              "       [0.75896405, 0.24103595],\n",
              "       [0.07180193, 0.92819807],\n",
              "       [0.76012011, 0.23987989],\n",
              "       [0.6997048 , 0.3002952 ],\n",
              "       [0.14512399, 0.85487601],\n",
              "       [0.48823423, 0.51176577],\n",
              "       [0.37552773, 0.62447227],\n",
              "       [0.14013001, 0.85986999],\n",
              "       [0.85737112, 0.14262888],\n",
              "       [0.7926166 , 0.2073834 ],\n",
              "       [0.5230249 , 0.4769751 ],\n",
              "       [0.66387428, 0.33612572],\n",
              "       [0.39036946, 0.60963054],\n",
              "       [0.17605486, 0.82394514],\n",
              "       [0.1450786 , 0.8549214 ],\n",
              "       [0.14037787, 0.85962213],\n",
              "       [0.89126718, 0.10873282],\n",
              "       [0.6571809 , 0.3428191 ],\n",
              "       [0.81914595, 0.18085405],\n",
              "       [0.21140628, 0.78859372],\n",
              "       [0.85210678, 0.14789322],\n",
              "       [0.11021941, 0.88978059],\n",
              "       [0.66591503, 0.33408497],\n",
              "       [0.25854222, 0.74145778],\n",
              "       [0.92527682, 0.07472318],\n",
              "       [0.09731433, 0.90268567],\n",
              "       [0.72553203, 0.27446797],\n",
              "       [0.80432888, 0.19567112],\n",
              "       [0.16632986, 0.83367014],\n",
              "       [0.19469598, 0.80530402],\n",
              "       [0.38351255, 0.61648745],\n",
              "       [0.59732387, 0.40267613],\n",
              "       [0.02140688, 0.97859312],\n",
              "       [0.90232776, 0.09767224],\n",
              "       [0.1573533 , 0.8426467 ],\n",
              "       [0.77954539, 0.22045461],\n",
              "       [0.87645193, 0.12354807],\n",
              "       [0.23780059, 0.76219941],\n",
              "       [0.05150928, 0.94849072],\n",
              "       [0.88390622, 0.11609378],\n",
              "       [0.11159158, 0.88840842],\n",
              "       [0.56434973, 0.43565027],\n",
              "       [0.78336675, 0.21663325],\n",
              "       [0.56566885, 0.43433115],\n",
              "       [0.74768428, 0.25231572],\n",
              "       [0.02126635, 0.97873365],\n",
              "       [0.55166837, 0.44833163],\n",
              "       [0.61797002, 0.38202998],\n",
              "       [0.52019877, 0.47980123],\n",
              "       [0.0849333 , 0.9150667 ],\n",
              "       [0.65501817, 0.34498183],\n",
              "       [0.11803736, 0.88196264],\n",
              "       [0.10740143, 0.89259857],\n",
              "       [0.19707958, 0.80292042],\n",
              "       [0.78315459, 0.21684541],\n",
              "       [0.05072924, 0.94927076],\n",
              "       [0.57119118, 0.42880882],\n",
              "       [0.13560298, 0.86439702],\n",
              "       [0.58773999, 0.41226001],\n",
              "       [0.17562358, 0.82437642],\n",
              "       [0.36938693, 0.63061307],\n",
              "       [0.68337111, 0.31662889],\n",
              "       [0.35840677, 0.64159323],\n",
              "       [0.12423818, 0.87576182],\n",
              "       [0.2384142 , 0.7615858 ],\n",
              "       [0.60312717, 0.39687283],\n",
              "       [0.70644908, 0.29355092],\n",
              "       [0.1876186 , 0.8123814 ],\n",
              "       [0.27422272, 0.72577728],\n",
              "       [0.43566635, 0.56433365],\n",
              "       [0.06187702, 0.93812298],\n",
              "       [0.10544004, 0.89455996],\n",
              "       [0.92527682, 0.07472318]])"
            ]
          },
          "metadata": {},
          "execution_count": 82
        }
      ],
      "source": [
        "model_log.predict_proba(x_test)"
      ]
    },
    {
      "cell_type": "code",
      "execution_count": null,
      "metadata": {
        "id": "yf1eFqtdSC4L",
        "colab": {
          "base_uri": "https://localhost:8080/"
        },
        "outputId": "a5b6dced-b297-418e-b86f-7d82144a6b08"
      },
      "outputs": [
        {
          "output_type": "stream",
          "name": "stdout",
          "text": [
            "Ground Truth: [1 0 1 0 0 0 0 0 0 0 0 0 1 1 0 1 0 0 0 1]\n",
            "Prediciones:  [0 0 1 0 0 0 0 0 0 0 1 1 0 1 0 1 1 0 1 1]\n"
          ]
        }
      ],
      "source": [
        "y_pred = model_log.predict(x_test)\n",
        "print('Ground Truth: '+str(np.array(y_test)[:20]))\n",
        "print('Prediciones:  '+str(y_pred[:20]))"
      ]
    },
    {
      "cell_type": "markdown",
      "metadata": {
        "id": "bp866CbHSC4L"
      },
      "source": [
        "**Taller**  \n",
        "Juegue un poco con las variables a incluir en el modelo para ver si logra aumentar el score del modelo y sus predicciones.  Algunas sugerencias:\n",
        "- Valide qué variables permiten la separación lineal de los datos\n",
        "- Puede incluir mas de dos variables para entrenar el modelo, es lo más recomendable, pero recuerde que no será posible visualizar la separación gráficamente\n",
        "- Intente con el parámetro *solver* de la función LogisticRegression(), éste permite generar otro tipo de líneas que pueden mejorar el modelo (Los posibles valores para el parámetro solver son: *'liblinear', 'newton-cg', 'lbfgs', 'sag' y 'saga'*.  Para saber en detalle qué tipo de modelo genera cada uno puede consultar [aqui](https://medium.com/@venali/conventional-guide-to-supervised-learning-with-scikit-learn-logistic-regression-generalized-e9783c414588))\n",
        "\n",
        "Una vez encuentre un modelo que considere adecuado, vamos a a guardarlo para futuros laboratorios:"
      ]
    },
    {
      "cell_type": "code",
      "execution_count": null,
      "metadata": {
        "id": "VsSwNNckSC4M"
      },
      "outputs": [],
      "source": [
        "with open(\"/content/drive/MyDrive/CIENCIA_DATOS/modelos/model_log.pkl\", \"wb\") as f:\n",
        "    pickle.dump(model_log, f)"
      ]
    },
    {
      "cell_type": "markdown",
      "source": [
        "## segundo modelo\n",
        "cambiamos el metodo de solver = newton"
      ],
      "metadata": {
        "id": "H9nm5xtbQOC-"
      }
    },
    {
      "cell_type": "code",
      "execution_count": null,
      "metadata": {
        "colab": {
          "base_uri": "https://localhost:8080/"
        },
        "outputId": "53cc2372-2936-4ca6-ea85-17fe4bd5f5ca",
        "id": "ovmQovXCRxns"
      },
      "outputs": [
        {
          "output_type": "stream",
          "name": "stdout",
          "text": [
            "Score: 0.7428571428571429\n"
          ]
        }
      ],
      "source": [
        "model_log_1 = LogisticRegression(solver='newton-cg')\n",
        "model_log_1.fit(x_train, y_train)\n",
        "print('Score: {}'.format(model_log.score(x_test, y_test)))"
      ]
    },
    {
      "cell_type": "code",
      "source": [
        "with open(\"/content/drive/MyDrive/CIENCIA_DATOS/modelos/model_log_1.pkl\", \"wb\") as f:\n",
        "    pickle.dump(model_log, f)"
      ],
      "metadata": {
        "id": "Pyrc8FxESDB0"
      },
      "execution_count": null,
      "outputs": []
    },
    {
      "cell_type": "markdown",
      "source": [
        "## modelo 2\n",
        "cambiando las variables"
      ],
      "metadata": {
        "id": "1v2TDDfQTvfF"
      }
    },
    {
      "cell_type": "markdown",
      "metadata": {
        "id": "5nfjs3QASC4M"
      },
      "source": [
        "### Vecinos más cercanos (kNN)\n",
        "\n",
        "Es un método de clasificación para problemas **no lineales**, y tal vez con una metodología/matemática más sencilla.\n",
        "Consiste en ver los datos como puntos en un plano (de N dimensiones cuántas variables incluya el modelo) y clasificar cualquier \"punto nuevo\" en la misma clase a la que pertenescan los *k* puntos más cercanos (*k* puede ser definido por nosotros mismos)\n",
        "\n",
        "<img src=\"https://encrypted-tbn0.gstatic.com/images?q=tbn%3AANd9GcTIr4A7USCWANPP8HDtHIOmN2HOY_CK1PhL2Q&usqp=CAU\" alt=\"kNN\" width=\"400\"/>\n",
        "\n",
        "- **Precisión:** Depende intensamente del valor de k.  muy eficiente para datasets sin ruido\n",
        "- **Velocidad:** Depende de dimensiones (*Realmente no construye ningún modelo*)\n",
        "- **Explicativo:** Mucho (Es una ecuación sencilla)\n",
        "- **Sensible a cambios:** Mucho a atributos irrelevantes y la complejidad del modelo\n",
        "- **Deteminístico**: Sí"
      ]
    },
    {
      "cell_type": "code",
      "execution_count": null,
      "metadata": {
        "id": "fY7nNzWkSC4M"
      },
      "outputs": [],
      "source": [
        "x_train, x_test, y_train, y_test = train_test_split(x, y, test_size=0.2, random_state=42)"
      ]
    },
    {
      "cell_type": "code",
      "execution_count": null,
      "metadata": {
        "id": "R2zIkmkOSC4M",
        "colab": {
          "base_uri": "https://localhost:8080/"
        },
        "outputId": "5812d2ed-4c2a-4b8f-c685-6bccb07fe5ca"
      },
      "outputs": [
        {
          "output_type": "stream",
          "name": "stdout",
          "text": [
            "Score: 0.6571428571428571\n"
          ]
        },
        {
          "output_type": "stream",
          "name": "stderr",
          "text": [
            "/usr/local/lib/python3.7/dist-packages/sklearn/base.py:444: UserWarning: X has feature names, but KNeighborsClassifier was fitted without feature names\n",
            "  f\"X has feature names, but {self.__class__.__name__} was fitted without\"\n"
          ]
        }
      ],
      "source": [
        "model_knn = KNeighborsClassifier(n_neighbors=18)\n",
        "model_knn.fit(preprocessing.normalize(x_train), y_train)\n",
        "print('Score: {}'.format(model_knn.score(x_test, y_test)))"
      ]
    },
    {
      "cell_type": "markdown",
      "metadata": {
        "id": "FHD8OwQ0SC4N"
      },
      "source": [
        "En este caso, se eligió el número de vecinos (k) aleatoriamente, y con razón no obtuvimos un score bueno. Pero cuidado:\n",
        "- Si k es muy pequeño, tendiendo a 1, el modelo va a decidir por la clase del ejemplo más cercano. Esto hace el modelo muy sensible al ruido o a pequeños cambios.\n",
        "- Si k es muy grande, tendiendo a N, el modelo no podrá generalizar.  Nunca analizará patrones, reglas, ni similitudes sino que decidirá siempre *lo que diga la mayoría*  \n",
        "\n",
        "**Taller**  \n",
        "Juegue un poco con el valor de k (*n_neighbors* en la función *KNeighborsClassifier*) para mejorar el score del modelo.  \n",
        "También puede intentar eliminando aquellas variables que generen ruido o atípicos sobre los datos.\n",
        "\n",
        "Una vez encuentre un modelo que considere adecuado, vamos a a guardarlo para futuros laboratorios:"
      ]
    },
    {
      "cell_type": "code",
      "execution_count": null,
      "metadata": {
        "id": "OOSIL7QASC4N"
      },
      "outputs": [],
      "source": [
        "with open(\"/content/drive/MyDrive/CIENCIA_DATOS/modelos/model_knn.pkl\", \"wb\") as f:\n",
        "    pickle.dump(model_knn, f)"
      ]
    },
    {
      "cell_type": "code",
      "execution_count": null,
      "metadata": {
        "colab": {
          "base_uri": "https://localhost:8080/"
        },
        "outputId": "0a924a31-51bc-4a8b-e68a-9e8df5e46cdb",
        "id": "j8yr1oDJUnEe"
      },
      "outputs": [
        {
          "output_type": "stream",
          "name": "stdout",
          "text": [
            "Score: 0.6571428571428571\n"
          ]
        },
        {
          "output_type": "stream",
          "name": "stderr",
          "text": [
            "/usr/local/lib/python3.7/dist-packages/sklearn/base.py:444: UserWarning: X has feature names, but KNeighborsClassifier was fitted without feature names\n",
            "  f\"X has feature names, but {self.__class__.__name__} was fitted without\"\n"
          ]
        }
      ],
      "source": [
        "model_knn_1 = KNeighborsClassifier(n_neighbors=180)\n",
        "model_knn_1.fit(preprocessing.normalize(x_train), y_train)\n",
        "print('Score: {}'.format(model_knn.score(x_test, y_test)))"
      ]
    },
    {
      "cell_type": "code",
      "source": [
        "with open(\"/content/drive/MyDrive/CIENCIA_DATOS/modelos/model_knn_1.pkl\", \"wb\") as f:\n",
        "    pickle.dump(model_knn, f)"
      ],
      "metadata": {
        "id": "0WlnpY_HUlsW"
      },
      "execution_count": null,
      "outputs": []
    },
    {
      "cell_type": "markdown",
      "metadata": {
        "id": "YJ6ZOI7-SC4N"
      },
      "source": [
        "### Máquinas de Soporte Vectorial (SVM)\n",
        "\n",
        "Cuando hablamos de Regresión logística, buscamos **una línea** que divida los datos de la mejor manera. Pero, qué pasa cuando hay más de una línea que cumple con esta condición? Cómo elegir la mejor?  \n",
        "Las maquinas de soporte vectorial buscan, por el contrario, un *hiperplano*: un conjunto de líneas que maximicen la distancia/margen entre los puntos más cercanos de cada clase.  A estos puntos más cercanos se les conoce como *vectores de soporte*\n",
        "\n",
        "<img src=\"https://d2h0cx97tjks2p.cloudfront.net/blogs/wp-content/uploads/sites/2/2017/08/how-svm-works.png\" alt=\"SVM\" width=\"400\"/>\n",
        "\n",
        "- **Precisión:** Alta si se configura correctamente\n",
        "- **Velocidad:** Lento para una gran cantidad de datos\n",
        "- **Explicativo:** No\n",
        "- **Sensible a cambios:** Si, sobretodo a ejemplos mal etiquetados\n",
        "- **Deteminístico**: Sí"
      ]
    },
    {
      "cell_type": "markdown",
      "source": [],
      "metadata": {
        "id": "wktWeGeoUv-8"
      }
    },
    {
      "cell_type": "code",
      "execution_count": null,
      "metadata": {
        "id": "RNEQ3L4ISC4N"
      },
      "outputs": [],
      "source": [
        "x_train, x_test, y_train, y_test = train_test_split(x, y, test_size=0.2, random_state=42)"
      ]
    },
    {
      "cell_type": "code",
      "execution_count": null,
      "metadata": {
        "id": "qsY_bnRqSC4N",
        "colab": {
          "base_uri": "https://localhost:8080/"
        },
        "outputId": "b3661db5-21b6-4aa6-8aaf-f95a07f82fcf"
      },
      "outputs": [
        {
          "output_type": "stream",
          "name": "stdout",
          "text": [
            "Score: 0.6285714285714286\n"
          ]
        }
      ],
      "source": [
        "model_svm = svm.SVC(probability= True,\n",
        "                    kernel='rbf')\n",
        "model_svm.fit(x_train, y_train)\n",
        "print('Score: {}'.format(model_svm.score(x_test, y_test)))"
      ]
    },
    {
      "cell_type": "markdown",
      "metadata": {
        "id": "XILI5ir7SC4O"
      },
      "source": [
        "Aún tenemos un error un poco alto.  Sin embargo, una de las ventajas de SVM, a pesar de ser un algoritmo lento y sensible al ruido, es su versatilidad para manejar problemas no lineales.  Esto lo logra por medio del parámetro **kernell** que permite definir \"la forma\" del/los hiperplano/s que va a generar:  \n",
        "![Kernell](https://i.imgur.com/HKTLn35.png)"
      ]
    },
    {
      "cell_type": "markdown",
      "metadata": {
        "id": "_jIF6dEOSC4O"
      },
      "source": [
        "**Taller**  \n",
        "Juegue un poco con las columnas a incluir en el modelo, así como con el **kernell** de la función *svm.SVC()*.  Los posibles valores de este parámetro son:\n",
        "- 'linear'\n",
        "- 'poly' (Polinomial, en este caso tambien se puede configurar el parámetro *degree*)\n",
        "- 'rbf'\n",
        "- 'sigmoid'\n",
        "\n",
        "Puede que encuentre varios modelos que le parezcan convenientes.  Se sugiere guardar cada uno de la siguiente manera (cambiando el nombre del archivo):"
      ]
    },
    {
      "cell_type": "code",
      "execution_count": null,
      "metadata": {
        "id": "teswXePnSC4O"
      },
      "outputs": [],
      "source": [
        "with open(\"/content/drive/MyDrive/CIENCIA_DATOS/modelos/model_svm.pkl\", \"wb\") as f:\n",
        "    pickle.dump(model_svm, f)"
      ]
    },
    {
      "cell_type": "markdown",
      "source": [
        "## SEGUNDO MODELO"
      ],
      "metadata": {
        "id": "P8TpSToRV7Lh"
      }
    },
    {
      "cell_type": "code",
      "execution_count": null,
      "metadata": {
        "colab": {
          "base_uri": "https://localhost:8080/"
        },
        "outputId": "e3452819-2425-4fa7-dc61-1e17c74f81cf",
        "id": "UOqNN4etWEeu"
      },
      "outputs": [
        {
          "output_type": "stream",
          "name": "stdout",
          "text": [
            "Score: 0.6095238095238096\n"
          ]
        }
      ],
      "source": [
        "model_svm = svm.SVC(probability= True,\n",
        "                    kernel='sigmoid')\n",
        "model_svm.fit(x_train, y_train)\n",
        "print('Score: {}'.format(model_svm.score(x_test, y_test)))"
      ]
    },
    {
      "cell_type": "code",
      "source": [
        "with open(\"/content/drive/MyDrive/CIENCIA_DATOS/modelos/model_svm_2.pkl\", \"wb\") as f:\n",
        "    pickle.dump(model_svm, f)"
      ],
      "metadata": {
        "id": "Lmrk6D9kV-eK"
      },
      "execution_count": null,
      "outputs": []
    },
    {
      "cell_type": "markdown",
      "metadata": {
        "id": "9hECnn_lSC4O"
      },
      "source": [
        "### Árboles de Decisión\n",
        "\n",
        "Es el tipo de algoritmo más fácil de entender, pues se basa en reglas condicionales muy similares al lenguaje humano (*Si... entonces...*).  El entrenamiento consiste en encontrar las reglas y condiciones que cubran la mayor cantidad de casos.  \n",
        "El modelo gráficamente puede ser representado mediante un árbol en el que los **nodos intermedios** son decisiones basadas en alguno de los atributos predictivos, y las **hojas** son la clase objetivo.\n",
        "\n",
        "<img src=\"https://upload.wikimedia.org/wikipedia/commons/f/f3/CART_tree_titanic_survivors.png\" alt=\"Decision Tree\" width=\"400\"/>\n",
        "\n",
        "- **Precisión:** Alta tendencia al sobreajuste (memorizar datos)\n",
        "- **Velocidad:** Rápido. La validación de reglas son condicionales\n",
        "- **Explicativo:** Sí\n",
        "- **Sensible a cambios:** Si, pequeños cambios en los datos puede resultar en árboles completamente diferentes.\n",
        "- **Deteminístico**: No"
      ]
    },
    {
      "cell_type": "code",
      "execution_count": null,
      "metadata": {
        "id": "zlDxdkEiSC4O"
      },
      "outputs": [],
      "source": [
        "x_train, x_test, y_train, y_test = train_test_split(x, y, test_size=0.2, random_state=42)"
      ]
    },
    {
      "cell_type": "code",
      "source": [
        "x_train.head()"
      ],
      "metadata": {
        "id": "KvDjjhNPzROK",
        "outputId": "161ffd0a-5972-473f-fc75-ea47181c4352",
        "colab": {
          "base_uri": "https://localhost:8080/",
          "height": 271
        }
      },
      "execution_count": null,
      "outputs": [
        {
          "output_type": "execute_result",
          "data": {
            "text/plain": [
              "      fixed_acidity  volatile_acidity  citric_acid  residual_sugar  chlorides  \\\n",
              "650             6.9              0.40         0.24             2.5      0.083   \n",
              "1313            7.5              0.51         0.02             1.7      0.084   \n",
              "1513            7.4              0.25         0.29             2.2      0.054   \n",
              "381             7.4              0.63         0.07             2.4      0.090   \n",
              "1088            8.9              0.24         0.39             1.6      0.074   \n",
              "\n",
              "      free_sulfur_dioxide  total_sulfur_dioxide  density    pH  sulphates  \\\n",
              "650                  30.0                  45.0  0.99590  3.26       0.58   \n",
              "1313                 13.0                  31.0  0.99538  3.36       0.54   \n",
              "1513                 19.0                  49.0  0.99666  3.40       0.76   \n",
              "381                  11.0                  37.0  0.99790  3.43       0.76   \n",
              "1088                  3.0                  10.0  0.99698  3.12       0.59   \n",
              "\n",
              "      alcohol  \n",
              "650      10.0  \n",
              "1313     10.5  \n",
              "1513     10.9  \n",
              "381       9.7  \n",
              "1088      9.5  "
            ],
            "text/html": [
              "\n",
              "  <div id=\"df-fb0a7348-9d8a-43fe-9a42-c459f2b174a3\">\n",
              "    <div class=\"colab-df-container\">\n",
              "      <div>\n",
              "<style scoped>\n",
              "    .dataframe tbody tr th:only-of-type {\n",
              "        vertical-align: middle;\n",
              "    }\n",
              "\n",
              "    .dataframe tbody tr th {\n",
              "        vertical-align: top;\n",
              "    }\n",
              "\n",
              "    .dataframe thead th {\n",
              "        text-align: right;\n",
              "    }\n",
              "</style>\n",
              "<table border=\"1\" class=\"dataframe\">\n",
              "  <thead>\n",
              "    <tr style=\"text-align: right;\">\n",
              "      <th></th>\n",
              "      <th>fixed_acidity</th>\n",
              "      <th>volatile_acidity</th>\n",
              "      <th>citric_acid</th>\n",
              "      <th>residual_sugar</th>\n",
              "      <th>chlorides</th>\n",
              "      <th>free_sulfur_dioxide</th>\n",
              "      <th>total_sulfur_dioxide</th>\n",
              "      <th>density</th>\n",
              "      <th>pH</th>\n",
              "      <th>sulphates</th>\n",
              "      <th>alcohol</th>\n",
              "    </tr>\n",
              "  </thead>\n",
              "  <tbody>\n",
              "    <tr>\n",
              "      <th>650</th>\n",
              "      <td>6.9</td>\n",
              "      <td>0.40</td>\n",
              "      <td>0.24</td>\n",
              "      <td>2.5</td>\n",
              "      <td>0.083</td>\n",
              "      <td>30.0</td>\n",
              "      <td>45.0</td>\n",
              "      <td>0.99590</td>\n",
              "      <td>3.26</td>\n",
              "      <td>0.58</td>\n",
              "      <td>10.0</td>\n",
              "    </tr>\n",
              "    <tr>\n",
              "      <th>1313</th>\n",
              "      <td>7.5</td>\n",
              "      <td>0.51</td>\n",
              "      <td>0.02</td>\n",
              "      <td>1.7</td>\n",
              "      <td>0.084</td>\n",
              "      <td>13.0</td>\n",
              "      <td>31.0</td>\n",
              "      <td>0.99538</td>\n",
              "      <td>3.36</td>\n",
              "      <td>0.54</td>\n",
              "      <td>10.5</td>\n",
              "    </tr>\n",
              "    <tr>\n",
              "      <th>1513</th>\n",
              "      <td>7.4</td>\n",
              "      <td>0.25</td>\n",
              "      <td>0.29</td>\n",
              "      <td>2.2</td>\n",
              "      <td>0.054</td>\n",
              "      <td>19.0</td>\n",
              "      <td>49.0</td>\n",
              "      <td>0.99666</td>\n",
              "      <td>3.40</td>\n",
              "      <td>0.76</td>\n",
              "      <td>10.9</td>\n",
              "    </tr>\n",
              "    <tr>\n",
              "      <th>381</th>\n",
              "      <td>7.4</td>\n",
              "      <td>0.63</td>\n",
              "      <td>0.07</td>\n",
              "      <td>2.4</td>\n",
              "      <td>0.090</td>\n",
              "      <td>11.0</td>\n",
              "      <td>37.0</td>\n",
              "      <td>0.99790</td>\n",
              "      <td>3.43</td>\n",
              "      <td>0.76</td>\n",
              "      <td>9.7</td>\n",
              "    </tr>\n",
              "    <tr>\n",
              "      <th>1088</th>\n",
              "      <td>8.9</td>\n",
              "      <td>0.24</td>\n",
              "      <td>0.39</td>\n",
              "      <td>1.6</td>\n",
              "      <td>0.074</td>\n",
              "      <td>3.0</td>\n",
              "      <td>10.0</td>\n",
              "      <td>0.99698</td>\n",
              "      <td>3.12</td>\n",
              "      <td>0.59</td>\n",
              "      <td>9.5</td>\n",
              "    </tr>\n",
              "  </tbody>\n",
              "</table>\n",
              "</div>\n",
              "      <button class=\"colab-df-convert\" onclick=\"convertToInteractive('df-fb0a7348-9d8a-43fe-9a42-c459f2b174a3')\"\n",
              "              title=\"Convert this dataframe to an interactive table.\"\n",
              "              style=\"display:none;\">\n",
              "        \n",
              "  <svg xmlns=\"http://www.w3.org/2000/svg\" height=\"24px\"viewBox=\"0 0 24 24\"\n",
              "       width=\"24px\">\n",
              "    <path d=\"M0 0h24v24H0V0z\" fill=\"none\"/>\n",
              "    <path d=\"M18.56 5.44l.94 2.06.94-2.06 2.06-.94-2.06-.94-.94-2.06-.94 2.06-2.06.94zm-11 1L8.5 8.5l.94-2.06 2.06-.94-2.06-.94L8.5 2.5l-.94 2.06-2.06.94zm10 10l.94 2.06.94-2.06 2.06-.94-2.06-.94-.94-2.06-.94 2.06-2.06.94z\"/><path d=\"M17.41 7.96l-1.37-1.37c-.4-.4-.92-.59-1.43-.59-.52 0-1.04.2-1.43.59L10.3 9.45l-7.72 7.72c-.78.78-.78 2.05 0 2.83L4 21.41c.39.39.9.59 1.41.59.51 0 1.02-.2 1.41-.59l7.78-7.78 2.81-2.81c.8-.78.8-2.07 0-2.86zM5.41 20L4 18.59l7.72-7.72 1.47 1.35L5.41 20z\"/>\n",
              "  </svg>\n",
              "      </button>\n",
              "      \n",
              "  <style>\n",
              "    .colab-df-container {\n",
              "      display:flex;\n",
              "      flex-wrap:wrap;\n",
              "      gap: 12px;\n",
              "    }\n",
              "\n",
              "    .colab-df-convert {\n",
              "      background-color: #E8F0FE;\n",
              "      border: none;\n",
              "      border-radius: 50%;\n",
              "      cursor: pointer;\n",
              "      display: none;\n",
              "      fill: #1967D2;\n",
              "      height: 32px;\n",
              "      padding: 0 0 0 0;\n",
              "      width: 32px;\n",
              "    }\n",
              "\n",
              "    .colab-df-convert:hover {\n",
              "      background-color: #E2EBFA;\n",
              "      box-shadow: 0px 1px 2px rgba(60, 64, 67, 0.3), 0px 1px 3px 1px rgba(60, 64, 67, 0.15);\n",
              "      fill: #174EA6;\n",
              "    }\n",
              "\n",
              "    [theme=dark] .colab-df-convert {\n",
              "      background-color: #3B4455;\n",
              "      fill: #D2E3FC;\n",
              "    }\n",
              "\n",
              "    [theme=dark] .colab-df-convert:hover {\n",
              "      background-color: #434B5C;\n",
              "      box-shadow: 0px 1px 3px 1px rgba(0, 0, 0, 0.15);\n",
              "      filter: drop-shadow(0px 1px 2px rgba(0, 0, 0, 0.3));\n",
              "      fill: #FFFFFF;\n",
              "    }\n",
              "  </style>\n",
              "\n",
              "      <script>\n",
              "        const buttonEl =\n",
              "          document.querySelector('#df-fb0a7348-9d8a-43fe-9a42-c459f2b174a3 button.colab-df-convert');\n",
              "        buttonEl.style.display =\n",
              "          google.colab.kernel.accessAllowed ? 'block' : 'none';\n",
              "\n",
              "        async function convertToInteractive(key) {\n",
              "          const element = document.querySelector('#df-fb0a7348-9d8a-43fe-9a42-c459f2b174a3');\n",
              "          const dataTable =\n",
              "            await google.colab.kernel.invokeFunction('convertToInteractive',\n",
              "                                                     [key], {});\n",
              "          if (!dataTable) return;\n",
              "\n",
              "          const docLinkHtml = 'Like what you see? Visit the ' +\n",
              "            '<a target=\"_blank\" href=https://colab.research.google.com/notebooks/data_table.ipynb>data table notebook</a>'\n",
              "            + ' to learn more about interactive tables.';\n",
              "          element.innerHTML = '';\n",
              "          dataTable['output_type'] = 'display_data';\n",
              "          await google.colab.output.renderOutput(dataTable, element);\n",
              "          const docLink = document.createElement('div');\n",
              "          docLink.innerHTML = docLinkHtml;\n",
              "          element.appendChild(docLink);\n",
              "        }\n",
              "      </script>\n",
              "    </div>\n",
              "  </div>\n",
              "  "
            ]
          },
          "metadata": {},
          "execution_count": 107
        }
      ]
    },
    {
      "cell_type": "code",
      "execution_count": null,
      "metadata": {
        "id": "RIC5TFfaSC4P",
        "colab": {
          "base_uri": "https://localhost:8080/"
        },
        "outputId": "85123d51-1cde-4b41-d6c3-2aba51d60471"
      },
      "outputs": [
        {
          "output_type": "stream",
          "name": "stdout",
          "text": [
            "Score: 0.6984126984126984\n"
          ]
        }
      ],
      "source": [
        "model_tree= DecisionTreeClassifier(max_depth=3)\n",
        "model_tree.fit(x_train, y_train)\n",
        "print('Score: {}'.format(model_tree.score(x_test, y_test)))"
      ]
    },
    {
      "cell_type": "markdown",
      "metadata": {
        "id": "u9mdEKYXSC4P"
      },
      "source": [
        "En cada uno de los nodos, el algoritmo valida qué variable y qué valor de esa variable produce un nivel mayor de \"pureza\" entre las hojas (*Entropía/gini index*).  Si este nivel no es suficiente para dar una buena decisión, se hace una nueva partición en cada una de las hojas, validando nuevamente todas las variables predictivas.  \n",
        "Por esto mismo, los árboles de decisión tienen varios parámetros que configurar (Nivel mínimo de entropía, profundidad máxima del árbol, mínima cantidad de muestras para las hojas, etc.)  \n",
        "Otra de las ventajas de los árboles es que son **tan explicativos**, que pueden ser graficados para validar el proceso de toma de cada decisión en el proceso de predicción:"
      ]
    },
    {
      "cell_type": "code",
      "execution_count": null,
      "metadata": {
        "id": "Ak80vsBESC4P",
        "colab": {
          "base_uri": "https://localhost:8080/",
          "height": 595
        },
        "outputId": "cf4129d4-8605-4436-e007-8e2254102b4d"
      },
      "outputs": [
        {
          "output_type": "display_data",
          "data": {
            "text/plain": [
              "<Figure size 1440x720 with 1 Axes>"
            ],
            "image/png": "[encoded data removed]"
          },
          "metadata": {
            "needs_background": "light"
          }
        }
      ],
      "source": [
        "plt.figure(figsize=(20,10))\n",
        "tree.plot_tree(model_tree,\n",
        "               feature_names=x.columns,\n",
        "               class_names=['BAJA', 'ALTA'],\n",
        "               filled=True);"
      ]
    },
    {
      "cell_type": "markdown",
      "metadata": {
        "id": "j3dKq1K5SC4P"
      },
      "source": [
        "**Taller**  \n",
        "Juegue un poco con las columas a incluir en el modelo, así como con los parámetros de la función *DecisionTreeClassifier()*, como por ejemplo: *max_depth, min_samples_split, min_samples_leaf, max_leaf_nodes, ...*\n",
        "\n",
        "Una vez encuentre un modelo que considere adecuado, vamos a a guardarlo para futuros laboratorios:"
      ]
    },
    {
      "cell_type": "code",
      "execution_count": null,
      "metadata": {
        "id": "t0K4MoUcSC4P"
      },
      "outputs": [],
      "source": [
        "with open(\"/content/drive/MyDrive/CIENCIA_DATOS/modelos/model_tree.pkl\", \"wb\") as f:\n",
        "    pickle.dump(model_tree, f)"
      ]
    },
    {
      "cell_type": "markdown",
      "metadata": {
        "id": "5MqrgSEGSC4Q"
      },
      "source": [
        "### Ensambles de Modelos\n",
        "Cuando un modelo es **no determinístico**, pero tiende al **sobreajuste**, es decir, aprende de memoria las reglas y patrones del set de entrenamiento, hasta el punto de no predecir correctamente sobre el test de pruebas, esto puede solucionarse haciendo un ensamble o conjunto de modelos.  Esto es, construir varios modelos \"débiles\" y crear uno \"robusto\", tomando la decisión final dependiendo de:\n",
        "- \"Democracia\", el resultado es lo que diga la mayoría de modelos, realizando cada uno **bajo un set de entrenamiento diferente** (*BaggingClassifier*)\n",
        "- \"Aleatorio\", el resultado es lo que diga la mayoría de árboles de decisión, realizando cada uno con un set aleatorio de  variables (*RandomForestClassifier*)\n",
        "\n",
        "<img src=\"https://ars.els-cdn.com/content/image/3-s2.0-B9780128177365000090-f09-17-9780128177365.jpg\" alt=\"Rnd Forest\" width=\"500\"/>\n",
        "\n",
        "- **Precisión:** Alta, varios modelos eliminan el sobreajuste\n",
        "- **Velocidad:** Lento, por presición se sacrifica velocidad\n",
        "- **Explicativo:** Sí, aunque no entrega el modelo, entrega importancia de variables\n",
        "- **Sensible a cambios:** No mucho, un dato atípico puede modificar un arbol, pero no todos\n",
        "- **Deteminístico**: No"
      ]
    },
    {
      "cell_type": "code",
      "execution_count": null,
      "metadata": {
        "id": "CCASA8sFSC4Q"
      },
      "outputs": [],
      "source": [
        "x_train, x_test, y_train, y_test = train_test_split(x, y, test_size=0.2, random_state=42)"
      ]
    },
    {
      "cell_type": "code",
      "execution_count": null,
      "metadata": {
        "id": "dq9AcHeZSC4Q",
        "colab": {
          "base_uri": "https://localhost:8080/"
        },
        "outputId": "8f181314-9252-4701-b036-05ec0a476ae0"
      },
      "outputs": [
        {
          "output_type": "stream",
          "name": "stdout",
          "text": [
            "Score: 0.765079365079365\n"
          ]
        }
      ],
      "source": [
        "model_forest= RandomForestClassifier(n_estimators=20, max_depth=5)\n",
        "model_forest.fit(x_train, y_train)\n",
        "print('Score: {}'.format(model_forest.score(x_test, y_test)))"
      ]
    },
    {
      "cell_type": "markdown",
      "metadata": {
        "id": "jL7oJ5D6SC4Q"
      },
      "source": [
        "Note que, si la anterior celda se ejecuta varias veces, el resultado cada vez tendrá un valor diferente.  Esto significa que el modelo es **no determinístico**.  Aunque el score cambie con solo ejecutarlo, es mejor configurar algunos parámetros para indicarle al modelo por dónde está la mejor solución.  \n",
        "El concenso realizado entre los modelos permite al algoritmo, a pesar de ser no determinístico, darse una idea de la importancia de cada variable en la toma de la decisión:"
      ]
    },
    {
      "cell_type": "code",
      "execution_count": null,
      "metadata": {
        "id": "i_cCIjOwSC4Q",
        "colab": {
          "base_uri": "https://localhost:8080/"
        },
        "outputId": "97269eb3-56eb-4cc9-a64a-6a72f7e265bb"
      },
      "outputs": [
        {
          "output_type": "stream",
          "name": "stdout",
          "text": [
            "fixed_acidity: 0.04\n",
            "volatile_acidity: 0.12\n",
            "citric_acid: 0.04\n",
            "residual_sugar: 0.03\n",
            "chlorides: 0.04\n",
            "free_sulfur_dioxide: 0.02\n",
            "total_sulfur_dioxide: 0.12\n",
            "density: 0.06\n",
            "pH: 0.02\n",
            "sulphates: 0.16\n",
            "alcohol: 0.34\n"
          ]
        }
      ],
      "source": [
        "for col, imp in zip(x.columns, model_forest.feature_importances_) :\n",
        "    print('{}: {:.2f}'.format(col, imp))"
      ]
    },
    {
      "cell_type": "markdown",
      "metadata": {
        "id": "ovdGWiKwSC4R"
      },
      "source": [
        "**Taller**  \n",
        "Juegue un poco con las columnas a incluir en el modelo, en este caso revise la importancia de variables.  \n",
        "Puede también jugar con los parámetros de la función *RandomForestClassifier()*, que son los mismos del Árbol de Decisión con la adición de *n_estimators* (Cantidad de modelos/árboles a generar)\n",
        "\n",
        "Una vez encuentre un modelo que considere adecuado, vamos a a guardarlo para futuros laboratorios:"
      ]
    },
    {
      "cell_type": "code",
      "execution_count": null,
      "metadata": {
        "id": "lwMeq1rLSC4R"
      },
      "outputs": [],
      "source": [
        "with open(\"/content/drive/MyDrive/CIENCIA_DATOS/modelos/model_forest.pkl\", \"wb\") as f:\n",
        "    pickle.dump(model_forest, f)"
      ]
    },
    {
      "cell_type": "code",
      "execution_count": null,
      "metadata": {
        "id": "tayFKtSwSC4R"
      },
      "outputs": [],
      "source": []
    },
    {
      "cell_type": "code",
      "execution_count": null,
      "metadata": {
        "colab": {
          "base_uri": "https://localhost:8080/"
        },
        "outputId": "1b77be88-56a0-4940-813e-134efa5987ee",
        "id": "35em6EvuZHlv"
      },
      "outputs": [
        {
          "output_type": "stream",
          "name": "stdout",
          "text": [
            "Score: 0.7619047619047619\n"
          ]
        }
      ],
      "source": [
        "model_forest_1= RandomForestClassifier(n_estimators=20, max_depth=5,min_samples_split = 2)\n",
        "model_forest_1.fit(x_train, y_train)\n",
        "print('Score: {}'.format(model_forest_1.score(x_test, y_test)))"
      ]
    },
    {
      "cell_type": "code",
      "source": [
        "with open(\"/content/drive/MyDrive/CIENCIA_DATOS/modelos/model_forest_1.pkl\", \"wb\") as f:\n",
        "    pickle.dump(model_forest, f)"
      ],
      "metadata": {
        "id": "WnQTS_h6ZPPY"
      },
      "execution_count": null,
      "outputs": []
    }
  ],
  "metadata": {
    "anaconda-cloud": {},
    "colab": {
      "provenance": [],
      "include_colab_link": true
    },
    "kernelspec": {
      "display_name": "Python 3",
      "language": "python",
      "name": "python3"
    },
    "language_info": {
      "codemirror_mode": {
        "name": "ipython",
        "version": 3
      },
      "file_extension": ".py",
      "mimetype": "text/x-python",
      "name": "python",
      "nbconvert_exporter": "python",
      "pygments_lexer": "ipython3",
      "version": "3.6.5"
    }
  },
  "nbformat": 4,
  "nbformat_minor": 0
}
